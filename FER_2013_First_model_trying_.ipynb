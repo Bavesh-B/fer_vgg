{
  "nbformat": 4,
  "nbformat_minor": 0,
  "metadata": {
    "colab": {
      "name": "FER 2013 First model trying .ipynb",
      "provenance": [],
      "authorship_tag": "ABX9TyNUK4x1ZReZu/u07nxIiRk6"
    },
    "kernelspec": {
      "name": "python3",
      "display_name": "Python 3"
    },
    "language_info": {
      "name": "python"
    },
    "accelerator": "GPU"
  },
  "cells": [
    {
      "cell_type": "code",
      "execution_count": null,
      "metadata": {
        "id": "c23vt-BfxuX7"
      },
      "outputs": [],
      "source": [
        "import pandas as pd\n",
        "import numpy as np\n",
        "import matplotlib.pyplot as plt\n",
        "%matplotlib inline\n",
        "\n",
        "import os,glob\n",
        "from tqdm import tqdm\n",
        "tqdm.pandas()\n",
        "import shutil\n",
        "import torch,torchvision\n",
        "from torch.utils.data import DataLoader\n",
        "import torch.nn as nn\n",
        "import torch.nn.functional as F\n",
        "from PIL import Image\n",
        "import cv2\n",
        "import warnings\n",
        "\n",
        "warnings.filterwarnings('ignore')\n",
        "\n",
        "from torch.cuda.amp import GradScaler\n",
        "from torch.optim.lr_scheduler import ReduceLROnPlateau\n",
        "from torchvision import transforms\n",
        "from torch.cuda.amp import autocast"
      ]
    },
    {
      "cell_type": "code",
      "source": [
        "from google.colab import drive\n",
        "drive._mount('/content/drive')"
      ],
      "metadata": {
        "colab": {
          "base_uri": "https://localhost:8080/"
        },
        "id": "jAFC52VaG2_J",
        "outputId": "9020f5c4-2b85-4c39-8017-d76579f9b916"
      },
      "execution_count": null,
      "outputs": [
        {
          "output_type": "stream",
          "name": "stdout",
          "text": [
            "Mounted at /content/drive\n"
          ]
        }
      ]
    },
    {
      "cell_type": "code",
      "source": [
        "class Block(nn.Module):\n",
        "  def __init__(self, in_channels):\n",
        "    super().__init__()\n",
        "    self.in_channels = in_channels\n",
        "    self.out_channels = (64 if self.in_channels == 1 else 2 * self.in_channels)\n",
        "\n",
        "    self.block =  nn.Sequential(\n",
        "        nn.Conv2d(self.in_channels, self.out_channels, kernel_size = 3, padding = 1),\n",
        "        nn.BatchNorm2d(self.out_channels),\n",
        "        nn.ReLU(inplace = True),\n",
        "        nn.Conv2d(self.out_channels, self.out_channels, kernel_size = 3, padding = 1),\n",
        "        nn.BatchNorm2d(self.out_channels),\n",
        "        nn.ReLU(inplace = True),\n",
        "        nn.MaxPool2d(kernel_size = 2, stride = 2),\n",
        "\n",
        "    )\n",
        "\n",
        "  def forward(self, x):\n",
        "    out = self.block(x)\n",
        "    return out"
      ],
      "metadata": {
        "id": "nzNcNv9dyo7C"
      },
      "execution_count": null,
      "outputs": []
    },
    {
      "cell_type": "code",
      "source": [
        "Block(64)"
      ],
      "metadata": {
        "colab": {
          "base_uri": "https://localhost:8080/"
        },
        "id": "0DcML54h0fCG",
        "outputId": "bb3d99c5-b348-4945-b93a-3c626c54c17b"
      },
      "execution_count": null,
      "outputs": [
        {
          "output_type": "execute_result",
          "data": {
            "text/plain": [
              "Block(\n",
              "  (block): Sequential(\n",
              "    (0): Conv2d(64, 128, kernel_size=(3, 3), stride=(1, 1), padding=(1, 1))\n",
              "    (1): BatchNorm2d(128, eps=1e-05, momentum=0.1, affine=True, track_running_stats=True)\n",
              "    (2): ReLU(inplace=True)\n",
              "    (3): Conv2d(128, 128, kernel_size=(3, 3), stride=(1, 1), padding=(1, 1))\n",
              "    (4): BatchNorm2d(128, eps=1e-05, momentum=0.1, affine=True, track_running_stats=True)\n",
              "    (5): ReLU(inplace=True)\n",
              "    (6): MaxPool2d(kernel_size=2, stride=2, padding=0, dilation=1, ceil_mode=False)\n",
              "  )\n",
              ")"
            ]
          },
          "metadata": {},
          "execution_count": 4
        }
      ]
    },
    {
      "cell_type": "code",
      "source": [
        "class Vgg(nn.Module):\n",
        "  def __init__(self, block, drop = 0.2, num_classes = 7):\n",
        "    super().__init__()\n",
        "\n",
        "    self.layer1 = self._make_layer(block, 1)\n",
        "    self.layer2 = self._make_layer(block, 64)\n",
        "    self.layer3 = self._make_layer(block, 128)\n",
        "    self.layer4 = self._make_layer(block, 256)\n",
        "\n",
        "    self.drop = nn.Dropout(p = drop)\n",
        "    self.fc1 = nn.Linear(512 * 2 * 2, 4096)\n",
        "    self.fc2 = nn.Linear(4096, 4096)\n",
        "    self.fc3 = nn.Linear(4096, num_classes)\n",
        "\n",
        "  def _make_layer(self, block, in_channels):\n",
        "    return block(in_channels)\n",
        "\n",
        "  def forward(self, x):\n",
        "    out = self.layer1(x)\n",
        "    out = self.layer2(out)\n",
        "    out = self.layer3(out)\n",
        "    out = self.layer4(out)\n",
        "\n",
        "    out = torch.flatten(out, 1)\n",
        "    out = F.relu(self.drop(self.fc1(out)))\n",
        "    out = F.relu(self.drop(self.fc2(out)))\n",
        "    out = self.fc3(out)\n",
        "\n",
        "    return out\n"
      ],
      "metadata": {
        "id": "9IsjtFTg0iG_"
      },
      "execution_count": null,
      "outputs": []
    },
    {
      "cell_type": "code",
      "source": [
        "Vgg(Block)"
      ],
      "metadata": {
        "colab": {
          "base_uri": "https://localhost:8080/"
        },
        "id": "J1EjuFJn3q0_",
        "outputId": "1552514a-dc4a-445f-8b46-1fd632087b6f"
      },
      "execution_count": null,
      "outputs": [
        {
          "output_type": "execute_result",
          "data": {
            "text/plain": [
              "Vgg(\n",
              "  (layer1): Block(\n",
              "    (block): Sequential(\n",
              "      (0): Conv2d(1, 64, kernel_size=(3, 3), stride=(1, 1), padding=(1, 1))\n",
              "      (1): BatchNorm2d(64, eps=1e-05, momentum=0.1, affine=True, track_running_stats=True)\n",
              "      (2): ReLU(inplace=True)\n",
              "      (3): Conv2d(64, 64, kernel_size=(3, 3), stride=(1, 1), padding=(1, 1))\n",
              "      (4): BatchNorm2d(64, eps=1e-05, momentum=0.1, affine=True, track_running_stats=True)\n",
              "      (5): ReLU(inplace=True)\n",
              "      (6): MaxPool2d(kernel_size=2, stride=2, padding=0, dilation=1, ceil_mode=False)\n",
              "    )\n",
              "  )\n",
              "  (layer2): Block(\n",
              "    (block): Sequential(\n",
              "      (0): Conv2d(64, 128, kernel_size=(3, 3), stride=(1, 1), padding=(1, 1))\n",
              "      (1): BatchNorm2d(128, eps=1e-05, momentum=0.1, affine=True, track_running_stats=True)\n",
              "      (2): ReLU(inplace=True)\n",
              "      (3): Conv2d(128, 128, kernel_size=(3, 3), stride=(1, 1), padding=(1, 1))\n",
              "      (4): BatchNorm2d(128, eps=1e-05, momentum=0.1, affine=True, track_running_stats=True)\n",
              "      (5): ReLU(inplace=True)\n",
              "      (6): MaxPool2d(kernel_size=2, stride=2, padding=0, dilation=1, ceil_mode=False)\n",
              "    )\n",
              "  )\n",
              "  (layer3): Block(\n",
              "    (block): Sequential(\n",
              "      (0): Conv2d(128, 256, kernel_size=(3, 3), stride=(1, 1), padding=(1, 1))\n",
              "      (1): BatchNorm2d(256, eps=1e-05, momentum=0.1, affine=True, track_running_stats=True)\n",
              "      (2): ReLU(inplace=True)\n",
              "      (3): Conv2d(256, 256, kernel_size=(3, 3), stride=(1, 1), padding=(1, 1))\n",
              "      (4): BatchNorm2d(256, eps=1e-05, momentum=0.1, affine=True, track_running_stats=True)\n",
              "      (5): ReLU(inplace=True)\n",
              "      (6): MaxPool2d(kernel_size=2, stride=2, padding=0, dilation=1, ceil_mode=False)\n",
              "    )\n",
              "  )\n",
              "  (layer4): Block(\n",
              "    (block): Sequential(\n",
              "      (0): Conv2d(256, 512, kernel_size=(3, 3), stride=(1, 1), padding=(1, 1))\n",
              "      (1): BatchNorm2d(512, eps=1e-05, momentum=0.1, affine=True, track_running_stats=True)\n",
              "      (2): ReLU(inplace=True)\n",
              "      (3): Conv2d(512, 512, kernel_size=(3, 3), stride=(1, 1), padding=(1, 1))\n",
              "      (4): BatchNorm2d(512, eps=1e-05, momentum=0.1, affine=True, track_running_stats=True)\n",
              "      (5): ReLU(inplace=True)\n",
              "      (6): MaxPool2d(kernel_size=2, stride=2, padding=0, dilation=1, ceil_mode=False)\n",
              "    )\n",
              "  )\n",
              "  (drop): Dropout(p=0.2, inplace=False)\n",
              "  (fc1): Linear(in_features=2048, out_features=4096, bias=True)\n",
              "  (fc2): Linear(in_features=4096, out_features=4096, bias=True)\n",
              "  (fc3): Linear(in_features=4096, out_features=7, bias=True)\n",
              ")"
            ]
          },
          "metadata": {},
          "execution_count": 6
        }
      ]
    },
    {
      "cell_type": "code",
      "source": [
        "from torch.utils.data import Dataset"
      ],
      "metadata": {
        "id": "9siVrZLlHt9M"
      },
      "execution_count": null,
      "outputs": []
    },
    {
      "cell_type": "code",
      "source": [
        "class CustomDataset(Dataset):\n",
        "    def __init__(self, images, labels, transform=None, augment=False):\n",
        "        self.images = images\n",
        "        self.labels = labels\n",
        "        self.transform = transform\n",
        "\n",
        "        self.augment = augment\n",
        "\n",
        "    def __len__(self):\n",
        "        return len(self.images)\n",
        "\n",
        "    def __getitem__(self, idx):\n",
        "        if torch.is_tensor(idx):\n",
        "            idx = idx.tolist()\n",
        "\n",
        "        img = np.array(self.images[idx])\n",
        "\n",
        "        img = Image.fromarray(img)\n",
        "\n",
        "        if self.transform:\n",
        "            img = self.transform(img)\n",
        "\n",
        "        label = torch.tensor(self.labels[idx]).type(torch.long)\n",
        "        sample = (img, label)\n",
        "\n",
        "        return sample"
      ],
      "metadata": {
        "id": "OinATq9K3tus"
      },
      "execution_count": null,
      "outputs": []
    },
    {
      "cell_type": "code",
      "source": [
        "def load_data(path='/content/drive/MyDrive/fer2013/fer2013.csv'):\n",
        "    fer2013 = pd.read_csv(path)\n",
        "    emotion_mapping = {0: 'Angry', 1: 'Disgust', 2: 'Fear', 3: 'Happy', 4: 'Sad', 5: 'Surprise', 6: 'Neutral'}\n",
        "\n",
        "    return fer2013, emotion_mapping\n",
        "\n",
        "\n",
        "def prepare_data(data):\n",
        "    \"\"\" Prepare data for modeling\n",
        "        input: data frame with labels und pixel data\n",
        "        output: image and label array \"\"\"\n",
        "\n",
        "    image_array = np.zeros(shape=(len(data), 48, 48))\n",
        "    image_label = np.array(list(map(int, data['emotion'])))\n",
        "\n",
        "    for i, row in enumerate(data.index):\n",
        "        image = np.fromstring(data.loc[row, 'pixels'], dtype=int, sep=' ')\n",
        "        image = np.reshape(image, (48, 48))\n",
        "        image_array[i] = image\n",
        "\n",
        "    return image_array, image_label\n",
        "\n",
        "\n",
        "def get_dataloaders(path='/content/drive/MyDrive/fer2013/fer2013.csv', bs=64, augment=True):\n",
        "    \"\"\" Prepare train, val, & test dataloaders\n",
        "        Augment training data using:\n",
        "            - cropping\n",
        "            - shifting (vertical/horizental)\n",
        "            - horizental flipping\n",
        "            - rotation\n",
        "        input: path to fer2013 csv file\n",
        "        output: (Dataloader, Dataloader, Dataloader) \"\"\"\n",
        "\n",
        "    fer2013, emotion_mapping = load_data(path)\n",
        "\n",
        "    xtrain, ytrain = prepare_data(fer2013[fer2013['Usage'] == 'Training'])\n",
        "    xval, yval = prepare_data(fer2013[fer2013['Usage'] == 'PrivateTest'])\n",
        "    xtest, ytest = prepare_data(fer2013[fer2013['Usage'] == 'PublicTest'])\n",
        "\n",
        "    mu, st = 0, 255\n",
        "\n",
        "    test_transform = transforms.Compose([\n",
        "        # transforms.Scale(52),\n",
        "        transforms.TenCrop(40),\n",
        "        transforms.Lambda(lambda crops: torch.stack([transforms.ToTensor()(crop) for crop in crops])),\n",
        "        transforms.Lambda(lambda tensors: torch.stack([transforms.Normalize(mean=(mu,), std=(st,))(t) for t in tensors])),\n",
        "    ])\n",
        "\n",
        "    if augment:\n",
        "        train_transform = transforms.Compose([\n",
        "            transforms.RandomResizedCrop(48, scale=(0.8, 1.2)),\n",
        "            transforms.RandomApply([transforms.RandomAffine(0, translate=(0.2, 0.2))], p=0.5),\n",
        "            transforms.RandomHorizontalFlip(),\n",
        "            transforms.RandomApply([transforms.RandomRotation(10)], p=0.5),\n",
        "\n",
        "            transforms.TenCrop(40),\n",
        "            transforms.Lambda(lambda crops: torch.stack([transforms.ToTensor()(crop) for crop in crops])),\n",
        "            transforms.Lambda(lambda tensors: torch.stack([transforms.Normalize(mean=(mu,), std=(st,))(t) for t in tensors])),\n",
        "            transforms.Lambda(lambda tensors: torch.stack([transforms.RandomErasing(p=0.5)(t) for t in tensors])),\n",
        "        ])\n",
        "    else:\n",
        "        train_transform = test_transform\n",
        "\n",
        "    # X = np.vstack((xtrain, xval))\n",
        "    # Y = np.hstack((ytrain, yval))\n",
        "\n",
        "    train = CustomDataset(xtrain, ytrain, train_transform)\n",
        "    val = CustomDataset(xval, yval, test_transform)\n",
        "    test = CustomDataset(xtest, ytest, test_transform)\n",
        "\n",
        "    trainloader = DataLoader(train, batch_size=bs, shuffle=True, num_workers=2)\n",
        "    valloader = DataLoader(val, batch_size=64, shuffle=True, num_workers=2)\n",
        "    testloader = DataLoader(test, batch_size=64, shuffle=True, num_workers=2)\n",
        "\n",
        "    return trainloader, valloader, testloader"
      ],
      "metadata": {
        "id": "qQOz4tynkvGN"
      },
      "execution_count": null,
      "outputs": []
    },
    {
      "cell_type": "code",
      "source": [
        "device = torch.device(\"cuda:0\" if torch.cuda.is_available() else \"cpu\")\n",
        "\n",
        "\n",
        "def train(net, dataloader, criterion, optimizer, scaler, Ncrop=True):\n",
        "    net = net.train()\n",
        "    loss_tr, correct_count, n_samples = 0.0, 0.0, 0.0\n",
        "    iters = len(dataloader)  # number of batches, not images\n",
        "\n",
        "    for i, data in tqdm(enumerate(dataloader)):\n",
        "        inputs, labels = data\n",
        "        inputs, labels = inputs.to(device), labels.to(device)\n",
        "\n",
        "        # print(f'batch number: {i+1}')\n",
        "        # print('before autocast')\n",
        "        with autocast():\n",
        "            if Ncrop:\n",
        "                # fuse crops and batchsize\n",
        "                # print('Ncrop started!!')\n",
        "                bs, ncrops, c, h, w = inputs.shape\n",
        "                inputs = inputs.view(-1, c, h, w)\n",
        "\n",
        "            # print('Ncrop over!!')\n",
        "            # repeat labels ncrops times\n",
        "            labels = torch.repeat_interleave(labels, repeats=ncrops, dim=0)\n",
        "\n",
        "            # print('repeat labels done!!')\n",
        "            # forward + backward + optimize\n",
        "            outputs = net(inputs)\n",
        "            # print('model output taken!!')\n",
        "            loss = criterion(outputs, labels)\n",
        "            # print('loss calaculated!!')\n",
        "            scaler.scale(loss).backward()\n",
        "            # print('scaler scaled!!')\n",
        "\n",
        "            scaler.step(optimizer)\n",
        "            # print('scaler step!!')\n",
        "            scaler.update()\n",
        "            # print('scaler update done!!')\n",
        "            optimizer.zero_grad()\n",
        "            # print('optimizer weights cleared!!')\n",
        "            # scheduler.step(epoch + i / iters)\n",
        "\n",
        "            # calculate performance metrics\n",
        "            loss_tr += loss.item()\n",
        "\n",
        "            _, preds = torch.max(outputs.data, 1)\n",
        "            correct_count += (preds == labels).sum().item()\n",
        "            n_samples += labels.size(0)\n",
        "\n",
        "    acc = 100 * correct_count / n_samples\n",
        "    loss = loss_tr / n_samples\n",
        "\n",
        "    return acc, loss\n",
        "\n",
        "\n",
        "def evaluate(net, dataloader, criterion, Ncrop=True):\n",
        "    net = net.eval()\n",
        "    loss_tr, correct_count, n_samples = 0.0, 0.0, 0.0\n",
        "    for data in tqdm(dataloader):\n",
        "        inputs, labels = data\n",
        "        inputs, labels = inputs.to(device), labels.to(device)\n",
        "        if Ncrop:\n",
        "            # fuse crops and batchsize\n",
        "            bs, ncrops, c, h, w = inputs.shape\n",
        "            inputs = inputs.view(-1, c, h, w)\n",
        "            # forward\n",
        "            outputs = net(inputs)\n",
        "            # combine results across the crops\n",
        "            outputs = outputs.view(bs, ncrops, -1)\n",
        "            outputs = torch.sum(outputs, dim=1) / ncrops\n",
        "        else:\n",
        "            outputs = net(inputs)\n",
        "\n",
        "        loss = criterion(outputs, labels)\n",
        "\n",
        "        # calculate performance metrics\n",
        "        loss_tr += loss.item()\n",
        "\n",
        "        _, preds = torch.max(outputs.data, 1)\n",
        "        correct_count += (preds == labels).sum().item()\n",
        "        n_samples += labels.size(0)\n",
        "\n",
        "    acc = 100 * correct_count / n_samples\n",
        "    loss = loss_tr / n_samples\n",
        "\n",
        "    return acc, loss"
      ],
      "metadata": {
        "id": "nGHCvJOYlcT9"
      },
      "execution_count": null,
      "outputs": []
    },
    {
      "cell_type": "code",
      "source": [
        "import os\n",
        "\n",
        "hps = {\n",
        "    'network': '',  # which network do you want to train\n",
        "    'name': '',  # whatever you want to name your run\n",
        "    'n_epochs': 300,\n",
        "    'model_save_dir': '/content/drive/MyDrive/fer2013/models',  # where will checkpoints be stored (path created automatically using hps[name])\n",
        "    'restore_epoch': None,  # continue training from a specific saved point\n",
        "    'start_epoch': 0,\n",
        "    'lr': 0.01,  # starting learning rate\n",
        "    'save_freq': 20,  # how often to create checkpoints\n",
        "    'drop': 0.1,\n",
        "    'bs': 64,\n",
        "}\n",
        "\n",
        "# possible_nets = set(filename.split(\".\")[0] for filename in os.listdir('models'))\n",
        "\n",
        "\n",
        "def setup_hparams(args):\n",
        "    for arg in args:\n",
        "        key, value = arg.split('=')\n",
        "        if key not in hps:\n",
        "            raise ValueError(key + ' is not a valid hyper parameter')\n",
        "        else:\n",
        "            hps[key] = value\n",
        "\n",
        "    # Invalid network check\n",
        "    if hps['network'] not in possible_nets:\n",
        "        raise ValueError(\"Invalid network.\\nPossible ones include:\\n - \" + '\\n - '.join(possible_nets))\n",
        "\n",
        "    # invalid parameter check\n",
        "    try:\n",
        "        hps['n_epochs'] = int(hps['n_epochs'])\n",
        "        hps['start_epoch'] = int(hps['start_epoch'])\n",
        "        hps['save_freq'] = int(hps['save_freq'])\n",
        "        hps['lr'] = float(hps['lr'])\n",
        "        hps['drop'] = float(hps['drop'])\n",
        "        hps['bs'] = int(hps['bs'])\n",
        "\n",
        "        if hps['restore_epoch']:\n",
        "            hps['restore_epoch'] = int(hps['restore_epoch'])\n",
        "            hps['start_epoch'] = int(hps['restore_epoch'])\n",
        "\n",
        "        # make sure we can checkpoint regularly or at least once (at the end)\n",
        "        if hps['n_epochs'] < 20:\n",
        "            hps['save_freq'] = min(5, hps['n_epochs'])\n",
        "\n",
        "    except Exception as e:\n",
        "        raise ValueError(\"Invalid input parameters\")\n",
        "\n",
        "    # create checkpoint directory\n",
        "    # hps['model_save_dir'] = os.path.join(os.getcwd(), 'checkpoints', hps['name'])\n",
        "\n",
        "    if not os.path.exists(hps['model_save_dir']):\n",
        "        os.makedirs(hps['model_save_dir'])\n",
        "\n",
        "    return hps"
      ],
      "metadata": {
        "id": "9mdAf8tvtUvH"
      },
      "execution_count": null,
      "outputs": []
    },
    {
      "cell_type": "code",
      "source": [
        "type(hps['bs'])"
      ],
      "metadata": {
        "colab": {
          "base_uri": "https://localhost:8080/"
        },
        "id": "0L5doWDTH7Bw",
        "outputId": "f08eb605-ec30-41b1-eb92-624458cc92f1"
      },
      "execution_count": null,
      "outputs": [
        {
          "output_type": "execute_result",
          "data": {
            "text/plain": [
              "int"
            ]
          },
          "metadata": {},
          "execution_count": 41
        }
      ]
    },
    {
      "cell_type": "code",
      "source": [
        "net = Vgg(Block)"
      ],
      "metadata": {
        "id": "nnlYzs6cH_e-"
      },
      "execution_count": null,
      "outputs": []
    },
    {
      "cell_type": "code",
      "source": [
        "net.to(device)\n",
        "scaler = GradScaler()\n",
        "optimizer = torch.optim.SGD(net.parameters(), lr=hps['lr'], momentum=0.9, nesterov=True, weight_decay=0.0001)\n",
        "\n",
        "scheduler = ReduceLROnPlateau(optimizer, mode='max', factor=0.75, patience=5, verbose=True)\n",
        "criterion = nn.CrossEntropyLoss()\n"
      ],
      "metadata": {
        "id": "6Gr2GPg4qqKx"
      },
      "execution_count": null,
      "outputs": []
    },
    {
      "cell_type": "code",
      "source": [
        "best_acc = 0.0\n",
        "\n",
        "# net.to(device)\n",
        "trainloader, valloader, testloader = get_dataloaders(bs = hps['bs'])\n",
        "print(\"Training\", \"on\", device)\n",
        "for epoch in range(hps['start_epoch'], hps['n_epochs']):\n",
        "\n",
        "  acc_tr, loss_tr = train(net, trainloader, criterion, optimizer, scaler)\n",
        "        # logger.loss_train.append(loss_tr)\n",
        "        # logger.acc_train.append(acc_tr)\n",
        "\n",
        "  acc_v, loss_v = evaluate(net, valloader, criterion)\n",
        "        # logger.loss_val.append(loss_v)\n",
        "        # logger.acc_val.append(acc_v)\n",
        "\n",
        "        # Update learning rate\n",
        "  scheduler.step(acc_v)\n",
        "\n",
        "  if acc_v > best_acc:\n",
        "    best_acc = acc_v\n",
        "    path = os.path.join(hps['model_save_dir'], 'epoch_' + str(epoch))\n",
        "    torch.save(net.state_dict(), path)\n",
        "\n",
        "    # save(net, logger, hps, epoch + 1)\n",
        "            # logger.save_plt(hps)\n",
        "\n",
        "  if (epoch + 1) % hps['save_freq'] == 0:\n",
        "    path = os.path.join(hps['model_save_dir'], 'epoch_' + str(epoch))\n",
        "    torch.save(net.state_dict(), path)\n",
        "    # save(net, logger, hps, epoch + 1)\n",
        "            # logger.save_plt(hps)\n",
        "\n",
        "  print('Epoch %2d' % (epoch + 1),\n",
        "              'Train Accuracy: %2.4f %%' % acc_tr,\n",
        "              'Val Accuracy: %2.4f %%' % acc_v,\n",
        "              sep='\\t\\t')\n",
        "\n",
        "    # Calculate performance on test set\n",
        "acc_test, loss_test = evaluate(net, testloader, criterion)\n",
        "print('Test Accuracy: %2.4f %%' % acc_test,\n",
        "          'Test Loss: %2.6f' % loss_test,\n",
        "          sep='\\t\\t')"
      ],
      "metadata": {
        "colab": {
          "base_uri": "https://localhost:8080/"
        },
        "id": "JPBopTTEtUYH",
        "outputId": "30d18d2c-b81c-4fbc-a8c8-3d5e37490aaa"
      },
      "execution_count": null,
      "outputs": [
        {
          "output_type": "stream",
          "name": "stdout",
          "text": [
            "Training on cuda:0\n"
          ]
        },
        {
          "output_type": "stream",
          "name": "stderr",
          "text": [
            "449it [06:11,  1.21it/s]\n",
            "100%|██████████| 57/57 [00:15<00:00,  3.71it/s]\n"
          ]
        },
        {
          "output_type": "stream",
          "name": "stdout",
          "text": [
            "Epoch  1\t\tTrain Accuracy: 34.1276 %\t\tVal Accuracy: 48.5093 %\n"
          ]
        },
        {
          "output_type": "stream",
          "name": "stderr",
          "text": [
            "449it [06:12,  1.21it/s]\n",
            "100%|██████████| 57/57 [00:15<00:00,  3.71it/s]\n"
          ]
        },
        {
          "output_type": "stream",
          "name": "stdout",
          "text": [
            "Epoch  2\t\tTrain Accuracy: 47.8711 %\t\tVal Accuracy: 55.3636 %\n"
          ]
        },
        {
          "output_type": "stream",
          "name": "stderr",
          "text": [
            "449it [06:12,  1.21it/s]\n",
            "100%|██████████| 57/57 [00:15<00:00,  3.71it/s]\n"
          ]
        },
        {
          "output_type": "stream",
          "name": "stdout",
          "text": [
            "Epoch  3\t\tTrain Accuracy: 52.2728 %\t\tVal Accuracy: 56.6732 %\n"
          ]
        },
        {
          "output_type": "stream",
          "name": "stderr",
          "text": [
            "449it [06:12,  1.21it/s]\n",
            "100%|██████████| 57/57 [00:15<00:00,  3.72it/s]\n"
          ]
        },
        {
          "output_type": "stream",
          "name": "stdout",
          "text": [
            "Epoch  4\t\tTrain Accuracy: 55.2802 %\t\tVal Accuracy: 60.6018 %\n"
          ]
        },
        {
          "output_type": "stream",
          "name": "stderr",
          "text": [
            "449it [06:12,  1.21it/s]\n",
            "100%|██████████| 57/57 [00:15<00:00,  3.73it/s]\n"
          ]
        },
        {
          "output_type": "stream",
          "name": "stdout",
          "text": [
            "Epoch  5\t\tTrain Accuracy: 57.1396 %\t\tVal Accuracy: 62.0507 %\n"
          ]
        },
        {
          "output_type": "stream",
          "name": "stderr",
          "text": [
            "449it [06:12,  1.21it/s]\n",
            "100%|██████████| 57/57 [00:15<00:00,  3.71it/s]\n"
          ]
        },
        {
          "output_type": "stream",
          "name": "stdout",
          "text": [
            "Epoch  6\t\tTrain Accuracy: 58.4350 %\t\tVal Accuracy: 63.2767 %\n"
          ]
        },
        {
          "output_type": "stream",
          "name": "stderr",
          "text": [
            "449it [06:12,  1.21it/s]\n",
            "100%|██████████| 57/57 [00:15<00:00,  3.72it/s]"
          ]
        },
        {
          "output_type": "stream",
          "name": "stdout",
          "text": [
            "Epoch  7\t\tTrain Accuracy: 59.5458 %\t\tVal Accuracy: 58.2614 %\n"
          ]
        },
        {
          "output_type": "stream",
          "name": "stderr",
          "text": [
            "\n",
            "449it [06:12,  1.21it/s]\n",
            "100%|██████████| 57/57 [00:15<00:00,  3.72it/s]"
          ]
        },
        {
          "output_type": "stream",
          "name": "stdout",
          "text": [
            "Epoch  8\t\tTrain Accuracy: 60.5549 %\t\tVal Accuracy: 61.7721 %\n"
          ]
        },
        {
          "output_type": "stream",
          "name": "stderr",
          "text": [
            "\n",
            "449it [06:11,  1.21it/s]\n",
            "100%|██████████| 57/57 [00:15<00:00,  3.73it/s]\n"
          ]
        },
        {
          "output_type": "stream",
          "name": "stdout",
          "text": [
            "Epoch  9\t\tTrain Accuracy: 61.5838 %\t\tVal Accuracy: 63.3881 %\n"
          ]
        },
        {
          "output_type": "stream",
          "name": "stderr",
          "text": [
            "449it [06:12,  1.21it/s]\n",
            "100%|██████████| 57/57 [00:15<00:00,  3.72it/s]\n"
          ]
        },
        {
          "output_type": "stream",
          "name": "stdout",
          "text": [
            "Epoch 10\t\tTrain Accuracy: 62.2237 %\t\tVal Accuracy: 64.9763 %\n"
          ]
        },
        {
          "output_type": "stream",
          "name": "stderr",
          "text": [
            "449it [06:12,  1.21it/s]\n",
            "100%|██████████| 57/57 [00:15<00:00,  3.72it/s]\n"
          ]
        },
        {
          "output_type": "stream",
          "name": "stdout",
          "text": [
            "Epoch 11\t\tTrain Accuracy: 62.8144 %\t\tVal Accuracy: 65.2828 %\n"
          ]
        },
        {
          "output_type": "stream",
          "name": "stderr",
          "text": [
            "449it [06:12,  1.21it/s]\n",
            "100%|██████████| 57/57 [00:15<00:00,  3.72it/s]\n"
          ]
        },
        {
          "output_type": "stream",
          "name": "stdout",
          "text": [
            "Epoch 12\t\tTrain Accuracy: 63.7459 %\t\tVal Accuracy: 67.7626 %\n"
          ]
        },
        {
          "output_type": "stream",
          "name": "stderr",
          "text": [
            "449it [06:12,  1.20it/s]\n",
            "100%|██████████| 57/57 [00:15<00:00,  3.73it/s]"
          ]
        },
        {
          "output_type": "stream",
          "name": "stdout",
          "text": [
            "Epoch 13\t\tTrain Accuracy: 64.3889 %\t\tVal Accuracy: 66.3137 %\n"
          ]
        },
        {
          "output_type": "stream",
          "name": "stderr",
          "text": [
            "\n",
            "449it [06:12,  1.21it/s]\n",
            "100%|██████████| 57/57 [00:15<00:00,  3.73it/s]\n"
          ]
        },
        {
          "output_type": "stream",
          "name": "stdout",
          "text": [
            "Epoch 14\t\tTrain Accuracy: 65.2757 %\t\tVal Accuracy: 68.4870 %\n"
          ]
        },
        {
          "output_type": "stream",
          "name": "stderr",
          "text": [
            "449it [06:11,  1.21it/s]\n",
            "100%|██████████| 57/57 [00:15<00:00,  3.73it/s]"
          ]
        },
        {
          "output_type": "stream",
          "name": "stdout",
          "text": [
            "Epoch 15\t\tTrain Accuracy: 65.8149 %\t\tVal Accuracy: 68.3199 %\n"
          ]
        },
        {
          "output_type": "stream",
          "name": "stderr",
          "text": [
            "\n",
            "449it [06:12,  1.21it/s]\n",
            "100%|██████████| 57/57 [00:15<00:00,  3.73it/s]"
          ]
        },
        {
          "output_type": "stream",
          "name": "stdout",
          "text": [
            "Epoch 16\t\tTrain Accuracy: 66.4729 %\t\tVal Accuracy: 64.8649 %\n"
          ]
        },
        {
          "output_type": "stream",
          "name": "stderr",
          "text": [
            "\n",
            "449it [06:12,  1.21it/s]\n",
            "100%|██████████| 57/57 [00:15<00:00,  3.73it/s]\n"
          ]
        },
        {
          "output_type": "stream",
          "name": "stdout",
          "text": [
            "Epoch 17\t\tTrain Accuracy: 66.9166 %\t\tVal Accuracy: 69.3787 %\n"
          ]
        },
        {
          "output_type": "stream",
          "name": "stderr",
          "text": [
            "449it [06:12,  1.21it/s]\n",
            "100%|██████████| 57/57 [00:15<00:00,  3.74it/s]"
          ]
        },
        {
          "output_type": "stream",
          "name": "stdout",
          "text": [
            "Epoch 18\t\tTrain Accuracy: 67.5652 %\t\tVal Accuracy: 68.8214 %\n"
          ]
        },
        {
          "output_type": "stream",
          "name": "stderr",
          "text": [
            "\n",
            "449it [06:12,  1.21it/s]\n",
            "100%|██████████| 57/57 [00:15<00:00,  3.71it/s]"
          ]
        },
        {
          "output_type": "stream",
          "name": "stdout",
          "text": [
            "Epoch 19\t\tTrain Accuracy: 68.0658 %\t\tVal Accuracy: 67.7626 %\n"
          ]
        },
        {
          "output_type": "stream",
          "name": "stderr",
          "text": [
            "\n",
            "449it [06:12,  1.21it/s]\n",
            "100%|██████████| 57/57 [00:15<00:00,  3.73it/s]\n"
          ]
        },
        {
          "output_type": "stream",
          "name": "stdout",
          "text": [
            "Epoch 20\t\tTrain Accuracy: 68.5527 %\t\tVal Accuracy: 68.0412 %\n"
          ]
        },
        {
          "output_type": "stream",
          "name": "stderr",
          "text": [
            "449it [06:12,  1.21it/s]\n",
            "100%|██████████| 57/57 [00:15<00:00,  3.73it/s]"
          ]
        },
        {
          "output_type": "stream",
          "name": "stdout",
          "text": [
            "Epoch 21\t\tTrain Accuracy: 69.1978 %\t\tVal Accuracy: 68.4035 %\n"
          ]
        },
        {
          "output_type": "stream",
          "name": "stderr",
          "text": [
            "\n",
            "449it [06:12,  1.21it/s]\n",
            "100%|██████████| 57/57 [00:15<00:00,  3.73it/s]"
          ]
        },
        {
          "output_type": "stream",
          "name": "stdout",
          "text": [
            "Epoch 22\t\tTrain Accuracy: 69.7405 %\t\tVal Accuracy: 67.7347 %\n"
          ]
        },
        {
          "output_type": "stream",
          "name": "stderr",
          "text": [
            "\n",
            "449it [06:12,  1.21it/s]\n",
            "100%|██████████| 57/57 [00:15<00:00,  3.73it/s]"
          ]
        },
        {
          "output_type": "stream",
          "name": "stdout",
          "text": [
            "Epoch    23: reducing learning rate of group 0 to 7.5000e-03.\n",
            "Epoch 23\t\tTrain Accuracy: 70.3584 %\t\tVal Accuracy: 67.0660 %\n"
          ]
        },
        {
          "output_type": "stream",
          "name": "stderr",
          "text": [
            "\n",
            "449it [06:12,  1.21it/s]\n",
            "100%|██████████| 57/57 [00:15<00:00,  3.72it/s]\n"
          ]
        },
        {
          "output_type": "stream",
          "name": "stdout",
          "text": [
            "Epoch 24\t\tTrain Accuracy: 71.7071 %\t\tVal Accuracy: 69.5737 %\n"
          ]
        },
        {
          "output_type": "stream",
          "name": "stderr",
          "text": [
            "449it [06:12,  1.21it/s]\n",
            "100%|██████████| 57/57 [00:15<00:00,  3.73it/s]\n"
          ]
        },
        {
          "output_type": "stream",
          "name": "stdout",
          "text": [
            "Epoch 25\t\tTrain Accuracy: 72.5090 %\t\tVal Accuracy: 69.8523 %\n"
          ]
        },
        {
          "output_type": "stream",
          "name": "stderr",
          "text": [
            "449it [06:12,  1.20it/s]\n",
            "100%|██████████| 57/57 [00:15<00:00,  3.73it/s]\n"
          ]
        },
        {
          "output_type": "stream",
          "name": "stdout",
          "text": [
            "Epoch 26\t\tTrain Accuracy: 72.8991 %\t\tVal Accuracy: 70.6325 %\n"
          ]
        },
        {
          "output_type": "stream",
          "name": "stderr",
          "text": [
            "449it [06:12,  1.21it/s]\n",
            "100%|██████████| 57/57 [00:15<00:00,  3.72it/s]"
          ]
        },
        {
          "output_type": "stream",
          "name": "stdout",
          "text": [
            "Epoch 27\t\tTrain Accuracy: 73.6024 %\t\tVal Accuracy: 67.9019 %\n"
          ]
        },
        {
          "output_type": "stream",
          "name": "stderr",
          "text": [
            "\n",
            "449it [06:12,  1.21it/s]\n",
            "100%|██████████| 57/57 [00:15<00:00,  3.72it/s]"
          ]
        },
        {
          "output_type": "stream",
          "name": "stdout",
          "text": [
            "Epoch 28\t\tTrain Accuracy: 73.9186 %\t\tVal Accuracy: 70.1588 %\n"
          ]
        },
        {
          "output_type": "stream",
          "name": "stderr",
          "text": [
            "\n",
            "449it [06:12,  1.21it/s]\n",
            "100%|██████████| 57/57 [00:15<00:00,  3.74it/s]"
          ]
        },
        {
          "output_type": "stream",
          "name": "stdout",
          "text": [
            "Epoch 29\t\tTrain Accuracy: 74.5024 %\t\tVal Accuracy: 69.6294 %\n"
          ]
        },
        {
          "output_type": "stream",
          "name": "stderr",
          "text": [
            "\n",
            "449it [06:12,  1.21it/s]\n",
            "100%|██████████| 57/57 [00:15<00:00,  3.73it/s]\n"
          ]
        },
        {
          "output_type": "stream",
          "name": "stdout",
          "text": [
            "Epoch 30\t\tTrain Accuracy: 74.7821 %\t\tVal Accuracy: 71.0504 %\n"
          ]
        },
        {
          "output_type": "stream",
          "name": "stderr",
          "text": [
            "449it [06:11,  1.21it/s]\n",
            "100%|██████████| 57/57 [00:15<00:00,  3.72it/s]"
          ]
        },
        {
          "output_type": "stream",
          "name": "stdout",
          "text": [
            "Epoch 31\t\tTrain Accuracy: 75.2043 %\t\tVal Accuracy: 70.0474 %\n"
          ]
        },
        {
          "output_type": "stream",
          "name": "stderr",
          "text": [
            "\n",
            "449it [06:11,  1.21it/s]\n",
            "100%|██████████| 57/57 [00:15<00:00,  3.74it/s]"
          ]
        },
        {
          "output_type": "stream",
          "name": "stdout",
          "text": [
            "Epoch 32\t\tTrain Accuracy: 75.6993 %\t\tVal Accuracy: 70.1588 %\n"
          ]
        },
        {
          "output_type": "stream",
          "name": "stderr",
          "text": [
            "\n",
            "449it [06:12,  1.21it/s]\n",
            "100%|██████████| 57/57 [00:15<00:00,  3.73it/s]"
          ]
        },
        {
          "output_type": "stream",
          "name": "stdout",
          "text": [
            "Epoch 33\t\tTrain Accuracy: 76.0967 %\t\tVal Accuracy: 69.8802 %\n"
          ]
        },
        {
          "output_type": "stream",
          "name": "stderr",
          "text": [
            "\n",
            "449it [06:12,  1.20it/s]\n",
            "100%|██████████| 57/57 [00:15<00:00,  3.68it/s]"
          ]
        },
        {
          "output_type": "stream",
          "name": "stdout",
          "text": [
            "Epoch 34\t\tTrain Accuracy: 76.5032 %\t\tVal Accuracy: 66.7595 %\n"
          ]
        },
        {
          "output_type": "stream",
          "name": "stderr",
          "text": [
            "\n",
            "449it [06:18,  1.19it/s]\n",
            "100%|██████████| 57/57 [00:15<00:00,  3.67it/s]"
          ]
        },
        {
          "output_type": "stream",
          "name": "stdout",
          "text": [
            "Epoch 35\t\tTrain Accuracy: 76.9710 %\t\tVal Accuracy: 69.9359 %\n"
          ]
        },
        {
          "output_type": "stream",
          "name": "stderr",
          "text": [
            "\n",
            "449it [06:18,  1.19it/s]\n",
            "100%|██████████| 57/57 [00:15<00:00,  3.67it/s]"
          ]
        },
        {
          "output_type": "stream",
          "name": "stdout",
          "text": [
            "Epoch    36: reducing learning rate of group 0 to 5.6250e-03.\n",
            "Epoch 36\t\tTrain Accuracy: 77.4161 %\t\tVal Accuracy: 70.8833 %\n"
          ]
        },
        {
          "output_type": "stream",
          "name": "stderr",
          "text": [
            "\n",
            "449it [06:17,  1.19it/s]\n",
            "100%|██████████| 57/57 [00:15<00:00,  3.68it/s]\n"
          ]
        },
        {
          "output_type": "stream",
          "name": "stdout",
          "text": [
            "Epoch 37\t\tTrain Accuracy: 79.0884 %\t\tVal Accuracy: 71.4126 %\n"
          ]
        },
        {
          "output_type": "stream",
          "name": "stderr",
          "text": [
            "449it [06:18,  1.19it/s]\n",
            "100%|██████████| 57/57 [00:15<00:00,  3.67it/s]\n"
          ]
        },
        {
          "output_type": "stream",
          "name": "stdout",
          "text": [
            "Epoch 38\t\tTrain Accuracy: 79.6980 %\t\tVal Accuracy: 72.3321 %\n"
          ]
        },
        {
          "output_type": "stream",
          "name": "stderr",
          "text": [
            "449it [06:18,  1.19it/s]\n",
            "100%|██████████| 57/57 [00:15<00:00,  3.67it/s]"
          ]
        },
        {
          "output_type": "stream",
          "name": "stdout",
          "text": [
            "Epoch 39\t\tTrain Accuracy: 79.9063 %\t\tVal Accuracy: 71.6077 %\n"
          ]
        },
        {
          "output_type": "stream",
          "name": "stderr",
          "text": [
            "\n",
            "449it [06:18,  1.19it/s]\n",
            "100%|██████████| 57/57 [00:15<00:00,  3.66it/s]\n"
          ]
        },
        {
          "output_type": "stream",
          "name": "stdout",
          "text": [
            "Epoch 40\t\tTrain Accuracy: 80.2943 %\t\tVal Accuracy: 71.9699 %\n"
          ]
        },
        {
          "output_type": "stream",
          "name": "stderr",
          "text": [
            "449it [06:18,  1.19it/s]\n",
            "100%|██████████| 57/57 [00:15<00:00,  3.67it/s]"
          ]
        },
        {
          "output_type": "stream",
          "name": "stdout",
          "text": [
            "Epoch 41\t\tTrain Accuracy: 80.7482 %\t\tVal Accuracy: 71.1062 %\n"
          ]
        },
        {
          "output_type": "stream",
          "name": "stderr",
          "text": [
            "\n",
            "449it [06:18,  1.19it/s]\n",
            "100%|██████████| 57/57 [00:15<00:00,  3.68it/s]"
          ]
        },
        {
          "output_type": "stream",
          "name": "stdout",
          "text": [
            "Epoch 42\t\tTrain Accuracy: 80.9906 %\t\tVal Accuracy: 71.8306 %\n"
          ]
        },
        {
          "output_type": "stream",
          "name": "stderr",
          "text": [
            "\n",
            "449it [06:17,  1.19it/s]\n",
            "100%|██████████| 57/57 [00:15<00:00,  3.68it/s]"
          ]
        },
        {
          "output_type": "stream",
          "name": "stdout",
          "text": [
            "Epoch 43\t\tTrain Accuracy: 81.5434 %\t\tVal Accuracy: 71.4962 %\n"
          ]
        },
        {
          "output_type": "stream",
          "name": "stderr",
          "text": [
            "\n",
            "449it [06:17,  1.19it/s]\n",
            "100%|██████████| 57/57 [00:15<00:00,  3.68it/s]"
          ]
        },
        {
          "output_type": "stream",
          "name": "stdout",
          "text": [
            "Epoch    44: reducing learning rate of group 0 to 4.2188e-03.\n",
            "Epoch 44\t\tTrain Accuracy: 81.6096 %\t\tVal Accuracy: 72.2207 %\n"
          ]
        },
        {
          "output_type": "stream",
          "name": "stderr",
          "text": [
            "\n",
            "449it [06:17,  1.19it/s]\n",
            "100%|██████████| 57/57 [00:15<00:00,  3.68it/s]"
          ]
        },
        {
          "output_type": "stream",
          "name": "stdout",
          "text": [
            "Epoch 45\t\tTrain Accuracy: 83.0928 %\t\tVal Accuracy: 72.2207 %\n"
          ]
        },
        {
          "output_type": "stream",
          "name": "stderr",
          "text": [
            "\n",
            "449it [06:17,  1.19it/s]\n",
            "100%|██████████| 57/57 [00:15<00:00,  3.68it/s]\n"
          ]
        },
        {
          "output_type": "stream",
          "name": "stdout",
          "text": [
            "Epoch 46\t\tTrain Accuracy: 83.6633 %\t\tVal Accuracy: 72.3600 %\n"
          ]
        },
        {
          "output_type": "stream",
          "name": "stderr",
          "text": [
            "449it [06:17,  1.19it/s]\n",
            "100%|██████████| 57/57 [00:15<00:00,  3.69it/s]\n"
          ]
        },
        {
          "output_type": "stream",
          "name": "stdout",
          "text": [
            "Epoch 47\t\tTrain Accuracy: 83.7908 %\t\tVal Accuracy: 72.8058 %\n"
          ]
        },
        {
          "output_type": "stream",
          "name": "stderr",
          "text": [
            "449it [06:18,  1.19it/s]\n",
            "100%|██████████| 57/57 [00:15<00:00,  3.68it/s]"
          ]
        },
        {
          "output_type": "stream",
          "name": "stdout",
          "text": [
            "Epoch 48\t\tTrain Accuracy: 84.0102 %\t\tVal Accuracy: 72.4157 %\n"
          ]
        },
        {
          "output_type": "stream",
          "name": "stderr",
          "text": [
            "\n",
            "449it [06:18,  1.19it/s]\n",
            "100%|██████████| 57/57 [00:15<00:00,  3.67it/s]"
          ]
        },
        {
          "output_type": "stream",
          "name": "stdout",
          "text": [
            "Epoch 49\t\tTrain Accuracy: 84.3209 %\t\tVal Accuracy: 72.4436 %\n"
          ]
        },
        {
          "output_type": "stream",
          "name": "stderr",
          "text": [
            "\n",
            "449it [06:18,  1.19it/s]\n",
            "100%|██████████| 57/57 [00:15<00:00,  3.67it/s]"
          ]
        },
        {
          "output_type": "stream",
          "name": "stdout",
          "text": [
            "Epoch 50\t\tTrain Accuracy: 84.6330 %\t\tVal Accuracy: 72.7779 %\n"
          ]
        },
        {
          "output_type": "stream",
          "name": "stderr",
          "text": [
            "\n",
            "449it [06:18,  1.19it/s]\n",
            "100%|██████████| 57/57 [00:15<00:00,  3.69it/s]"
          ]
        },
        {
          "output_type": "stream",
          "name": "stdout",
          "text": [
            "Epoch 51\t\tTrain Accuracy: 84.7299 %\t\tVal Accuracy: 71.6913 %\n"
          ]
        },
        {
          "output_type": "stream",
          "name": "stderr",
          "text": [
            "\n",
            "449it [06:18,  1.19it/s]\n",
            "100%|██████████| 57/57 [00:15<00:00,  3.68it/s]"
          ]
        },
        {
          "output_type": "stream",
          "name": "stdout",
          "text": [
            "Epoch 52\t\tTrain Accuracy: 84.9141 %\t\tVal Accuracy: 72.3043 %\n"
          ]
        },
        {
          "output_type": "stream",
          "name": "stderr",
          "text": [
            "\n",
            "449it [06:18,  1.19it/s]\n",
            "100%|██████████| 57/57 [00:15<00:00,  3.68it/s]\n"
          ]
        },
        {
          "output_type": "stream",
          "name": "stdout",
          "text": [
            "Epoch 53\t\tTrain Accuracy: 85.3238 %\t\tVal Accuracy: 72.9730 %\n"
          ]
        },
        {
          "output_type": "stream",
          "name": "stderr",
          "text": [
            "449it [06:18,  1.19it/s]\n",
            "100%|██████████| 57/57 [00:15<00:00,  3.68it/s]"
          ]
        },
        {
          "output_type": "stream",
          "name": "stdout",
          "text": [
            "Epoch 54\t\tTrain Accuracy: 85.4519 %\t\tVal Accuracy: 72.6386 %\n"
          ]
        },
        {
          "output_type": "stream",
          "name": "stderr",
          "text": [
            "\n",
            "449it [06:18,  1.19it/s]\n",
            "100%|██████████| 57/57 [00:15<00:00,  3.67it/s]"
          ]
        },
        {
          "output_type": "stream",
          "name": "stdout",
          "text": [
            "Epoch 55\t\tTrain Accuracy: 85.4429 %\t\tVal Accuracy: 72.9451 %\n"
          ]
        },
        {
          "output_type": "stream",
          "name": "stderr",
          "text": [
            "\n",
            "449it [06:18,  1.19it/s]\n",
            "100%|██████████| 57/57 [00:15<00:00,  3.68it/s]"
          ]
        },
        {
          "output_type": "stream",
          "name": "stdout",
          "text": [
            "Epoch 56\t\tTrain Accuracy: 85.9403 %\t\tVal Accuracy: 72.3600 %\n"
          ]
        },
        {
          "output_type": "stream",
          "name": "stderr",
          "text": [
            "\n",
            "178it [02:30,  1.19it/s]"
          ]
        }
      ]
    },
    {
      "cell_type": "code",
      "source": [
        "for img, label in trainloader:\n",
        "  print(img)\n",
        "  print(label)\n",
        "  break"
      ],
      "metadata": {
        "colab": {
          "base_uri": "https://localhost:8080/"
        },
        "id": "pN-2DQsM1172",
        "outputId": "2db8b86a-3d52-4414-b09d-b75552dccd58"
      },
      "execution_count": null,
      "outputs": [
        {
          "output_type": "stream",
          "name": "stdout",
          "text": [
            "tensor([[[[[0.7961, 0.7961, 0.8023,  ..., 0.0551, 0.0365, 0.0290],\n",
            "           [0.8039, 0.7955, 0.8026,  ..., 0.0594, 0.0404, 0.0353],\n",
            "           [0.8039, 0.8039, 0.8018,  ..., 0.0680, 0.0605, 0.0518],\n",
            "           ...,\n",
            "           [0.7686, 0.7348, 0.7320,  ..., 0.3260, 0.3377, 0.3225],\n",
            "           [0.7725, 0.6993, 0.6768,  ..., 0.3135, 0.3260, 0.3038],\n",
            "           [0.7882, 0.6980, 0.6398,  ..., 0.3315, 0.3241, 0.2750]]],\n",
            "\n",
            "\n",
            "         [[[0.4792, 0.5413, 0.5103,  ..., 0.0366, 0.0526, 0.0667],\n",
            "           [0.4788, 0.5676, 0.4886,  ..., 0.0275, 0.0297, 0.0353],\n",
            "           [0.5260, 0.5605, 0.5103,  ..., 0.0295, 0.0263, 0.0235],\n",
            "           ...,\n",
            "           [0.6990, 0.7194, 0.7244,  ..., 0.1053, 0.0124, 0.0039],\n",
            "           [0.7006, 0.7233, 0.7279,  ..., 0.0667, 0.0066, 0.0235],\n",
            "           [0.6527, 0.6701, 0.6815,  ..., 0.0604, 0.0077, 0.0275]]],\n",
            "\n",
            "\n",
            "         [[[0.8078, 0.8135, 0.8115,  ..., 0.3549, 0.3009, 0.2211],\n",
            "           [0.8000, 0.8085, 0.8076,  ..., 0.3892, 0.3270, 0.2562],\n",
            "           [0.7882, 0.7995, 0.8081,  ..., 0.4050, 0.3304, 0.2539],\n",
            "           ...,\n",
            "           [0.6784, 0.6277, 0.5683,  ..., 0.2038, 0.2407, 0.2766],\n",
            "           [0.4667, 0.4977, 0.5119,  ..., 0.2456, 0.2900, 0.3136],\n",
            "           [0.4471, 0.4781, 0.4777,  ..., 0.2853, 0.3077, 0.3207]]],\n",
            "\n",
            "\n",
            "         ...,\n",
            "\n",
            "\n",
            "         [[[0.0235, 0.0235, 0.0256,  ..., 0.1350, 0.2642, 0.4836],\n",
            "           [0.0275, 0.0275, 0.0254,  ..., 0.1362, 0.3553, 0.5360],\n",
            "           [0.0196, 0.0168, 0.0157,  ..., 0.1749, 0.3078, 0.4794],\n",
            "           ...,\n",
            "           [0.1059, 0.0890, 0.0699,  ..., 0.6479, 0.6440, 0.6175],\n",
            "           [0.1176, 0.1176, 0.0843,  ..., 0.6440, 0.6248, 0.6080],\n",
            "           [0.1373, 0.1344, 0.1104,  ..., 0.6472, 0.6409, 0.6229]]],\n",
            "\n",
            "\n",
            "         [[[0.2211, 0.3009, 0.3549,  ..., 0.8115, 0.8135, 0.8078],\n",
            "           [0.2562, 0.3270, 0.3892,  ..., 0.8076, 0.8085, 0.8000],\n",
            "           [0.2539, 0.3304, 0.4050,  ..., 0.8081, 0.7995, 0.7882],\n",
            "           ...,\n",
            "           [0.2766, 0.2407, 0.2038,  ..., 0.5683, 0.6277, 0.6784],\n",
            "           [0.3136, 0.2900, 0.2456,  ..., 0.5119, 0.4977, 0.4667],\n",
            "           [0.3207, 0.3077, 0.2853,  ..., 0.4777, 0.4781, 0.4471]]],\n",
            "\n",
            "\n",
            "         [[[0.0353, 0.0353, 0.0384,  ..., 0.5752, 0.7547, 0.7993],\n",
            "           [0.0374, 0.0278, 0.0366,  ..., 0.5879, 0.7702, 0.8116],\n",
            "           [0.0359, 0.0391, 0.0362,  ..., 0.6565, 0.7888, 0.8048],\n",
            "           ...,\n",
            "           [0.2371, 0.2467, 0.2287,  ..., 0.5833, 0.6078, 0.6078],\n",
            "           [0.2396, 0.2619, 0.2474,  ..., 0.5934, 0.6108, 0.5853],\n",
            "           [0.2369, 0.2656, 0.2544,  ..., 0.5990, 0.6228, 0.6037]]]],\n",
            "\n",
            "\n",
            "\n",
            "        [[[[0.3098, 0.3098, 0.3121,  ..., 0.5637, 0.5248, 0.4987],\n",
            "           [0.3137, 0.3167, 0.3176,  ..., 0.6304, 0.5853, 0.5510],\n",
            "           [0.3137, 0.3167, 0.3199,  ..., 0.6500, 0.6288, 0.5944],\n",
            "           ...,\n",
            "           [0.5412, 0.5441, 0.5451,  ..., 0.5245, 0.5663, 0.5761],\n",
            "           [0.5451, 0.5480, 0.5490,  ..., 0.5059, 0.5768, 0.5948],\n",
            "           [0.5451, 0.5569, 0.5676,  ..., 0.5275, 0.5618, 0.5879]]],\n",
            "\n",
            "\n",
            "         [[[0.3183, 0.3641, 0.4529,  ..., 0.4422, 0.4353, 0.4353],\n",
            "           [0.3451, 0.4235, 0.5157,  ..., 0.4461, 0.4373, 0.4314],\n",
            "           [0.3683, 0.4582, 0.5510,  ..., 0.4572, 0.4520, 0.4431],\n",
            "           ...,\n",
            "           [0.5686, 0.5556, 0.5539,  ..., 0.5069, 0.5127, 0.5098],\n",
            "           [0.4088, 0.3386, 0.3853,  ..., 0.5170, 0.5265, 0.5412],\n",
            "           [0.2376, 0.2588, 0.3598,  ..., 0.5134, 0.5431, 0.5843]]],\n",
            "\n",
            "\n",
            "         [[[0.3569, 0.3569, 0.3592,  ..., 0.6716, 0.6467, 0.6255],\n",
            "           [0.3647, 0.3676, 0.3686,  ..., 0.6814, 0.6562, 0.6333],\n",
            "           [0.3725, 0.3725, 0.3748,  ..., 0.6529, 0.6402, 0.6271],\n",
            "           ...,\n",
            "           [0.2078, 0.1931, 0.1882,  ..., 0.5176, 0.5157, 0.5206],\n",
            "           [0.2157, 0.2039, 0.1977,  ..., 0.5176, 0.4964, 0.4817],\n",
            "           [0.2157, 0.1951, 0.2065,  ..., 0.5461, 0.5222, 0.4520]]],\n",
            "\n",
            "\n",
            "         ...,\n",
            "\n",
            "\n",
            "         [[[0.4549, 0.4814, 0.5062,  ..., 0.6265, 0.6101, 0.5399],\n",
            "           [0.4353, 0.4735, 0.5160,  ..., 0.6225, 0.6160, 0.5637],\n",
            "           [0.4392, 0.4745, 0.5229,  ..., 0.6039, 0.5925, 0.5533],\n",
            "           ...,\n",
            "           [0.1647, 0.1912, 0.2160,  ..., 0.3186, 0.2912, 0.2520],\n",
            "           [0.1490, 0.1667, 0.1977,  ..., 0.3157, 0.2951, 0.2493],\n",
            "           [0.1373, 0.1520, 0.2003,  ..., 0.3431, 0.2971, 0.2464]]],\n",
            "\n",
            "\n",
            "         [[[0.6255, 0.6467, 0.6716,  ..., 0.3592, 0.3569, 0.3569],\n",
            "           [0.6333, 0.6562, 0.6814,  ..., 0.3686, 0.3676, 0.3647],\n",
            "           [0.6271, 0.6402, 0.6529,  ..., 0.3748, 0.3725, 0.3725],\n",
            "           ...,\n",
            "           [0.5206, 0.5157, 0.5176,  ..., 0.1882, 0.1931, 0.2078],\n",
            "           [0.4817, 0.4964, 0.5176,  ..., 0.1977, 0.2039, 0.2157],\n",
            "           [0.4520, 0.5222, 0.5461,  ..., 0.2065, 0.1951, 0.2157]]],\n",
            "\n",
            "\n",
            "         [[[0.4990, 0.5281, 0.5542,  ..., 0.3451, 0.3451, 0.3451],\n",
            "           [0.5147, 0.5320, 0.5582,  ..., 0.3490, 0.3490, 0.3490],\n",
            "           [0.5471, 0.5663, 0.5827,  ..., 0.0000, 0.0000, 0.0000],\n",
            "           ...,\n",
            "           [0.5216, 0.5160, 0.5781,  ..., 0.2154, 0.2513, 0.2490],\n",
            "           [0.5245, 0.5222, 0.5288,  ..., 0.1954, 0.2281, 0.2225],\n",
            "           [0.4706, 0.5265, 0.4971,  ..., 0.2042, 0.2467, 0.2157]]]],\n",
            "\n",
            "\n",
            "\n",
            "        [[[[0.0000, 0.0000, 0.7601,  ..., 0.0000, 0.0000, 0.0000],\n",
            "           [0.0000, 0.0000, 0.7748,  ..., 0.3547, 0.3528, 0.3603],\n",
            "           [0.0000, 0.0000, 0.7569,  ..., 0.3126, 0.3276, 0.3346],\n",
            "           ...,\n",
            "           [0.6015, 0.6119, 0.5810,  ..., 0.5969, 0.5384, 0.5007],\n",
            "           [0.6020, 0.6019, 0.5777,  ..., 0.5915, 0.5224, 0.4656],\n",
            "           [0.5945, 0.5975, 0.5925,  ..., 0.5456, 0.5189, 0.4506]]],\n",
            "\n",
            "\n",
            "         [[[0.4986, 0.5457, 0.5413,  ..., 0.0000, 0.0000, 0.0000],\n",
            "           [0.4591, 0.5005, 0.5281,  ..., 0.0000, 0.0000, 0.0000],\n",
            "           [0.4481, 0.4684, 0.5090,  ..., 0.3311, 0.3216, 0.3212],\n",
            "           ...,\n",
            "           [0.5931, 0.5956, 0.5728,  ..., 0.5485, 0.5108, 0.0000],\n",
            "           [0.6006, 0.5890, 0.5563,  ..., 0.5675, 0.5206, 0.0000],\n",
            "           [0.5976, 0.5798, 0.5431,  ..., 0.5809, 0.5304, 0.0000]]],\n",
            "\n",
            "\n",
            "         [[[0.0000, 0.6618, 0.5423,  ..., 0.4319, 0.4104, 0.3913],\n",
            "           [0.0000, 0.6722, 0.5356,  ..., 0.4127, 0.3958, 0.3822],\n",
            "           [0.0000, 0.6886, 0.5458,  ..., 0.3890, 0.3656, 0.3440],\n",
            "           ...,\n",
            "           [0.6435, 0.6431, 0.6368,  ..., 0.5482, 0.4590, 0.3082],\n",
            "           [0.0000, 0.0000, 0.0000,  ..., 0.4118, 0.3444, 0.2436],\n",
            "           [0.0000, 0.0000, 0.0000,  ..., 0.2383, 0.2102, 0.1883]]],\n",
            "\n",
            "\n",
            "         ...,\n",
            "\n",
            "\n",
            "         [[[0.3519, 0.3579, 0.3454,  ..., 0.5258, 0.5074, 0.4571],\n",
            "           [0.3441, 0.3538, 0.3616,  ..., 0.5301, 0.5065, 0.4487],\n",
            "           [0.3454, 0.3583, 0.3673,  ..., 0.5180, 0.4788, 0.4119],\n",
            "           ...,\n",
            "           [0.0000, 0.0000, 0.6265,  ..., 0.4048, 0.4607, 0.4996],\n",
            "           [0.0000, 0.0000, 0.6536,  ..., 0.3858, 0.4459, 0.4917],\n",
            "           [0.0000, 0.0000, 0.6650,  ..., 0.0000, 0.0000, 0.0000]]],\n",
            "\n",
            "\n",
            "         [[[0.3913, 0.4104, 0.4319,  ..., 0.5423, 0.6618, 0.0000],\n",
            "           [0.3822, 0.3958, 0.4127,  ..., 0.5356, 0.6722, 0.0000],\n",
            "           [0.3440, 0.3656, 0.3890,  ..., 0.5458, 0.6886, 0.0000],\n",
            "           ...,\n",
            "           [0.3082, 0.4590, 0.5482,  ..., 0.6368, 0.6431, 0.6435],\n",
            "           [0.2436, 0.3444, 0.4118,  ..., 0.0000, 0.0000, 0.0000],\n",
            "           [0.1883, 0.2102, 0.2383,  ..., 0.0000, 0.0000, 0.0000]]],\n",
            "\n",
            "\n",
            "         [[[0.3234, 0.3058, 0.2940,  ..., 0.4915, 0.5067, 0.6322],\n",
            "           [0.3283, 0.3243, 0.3195,  ..., 0.5010, 0.5325, 0.6768],\n",
            "           [0.3300, 0.3305, 0.3306,  ..., 0.4890, 0.5441, 0.7106],\n",
            "           ...,\n",
            "           [0.2129, 0.1843, 0.2923,  ..., 0.6272, 0.6548, 0.6611],\n",
            "           [0.1644, 0.1751, 0.2816,  ..., 0.6138, 0.6496, 0.6674],\n",
            "           [0.1781, 0.1790, 0.2270,  ..., 0.5850, 0.6307, 0.6582]]]],\n",
            "\n",
            "\n",
            "\n",
            "        ...,\n",
            "\n",
            "\n",
            "\n",
            "        [[[[0.2431, 0.2689, 0.3408,  ..., 0.7971, 0.8100, 0.8501],\n",
            "           [0.3020, 0.3691, 0.3911,  ..., 0.7975, 0.7932, 0.8237],\n",
            "           [0.3937, 0.4043, 0.3372,  ..., 0.8237, 0.8021, 0.8081],\n",
            "           ...,\n",
            "           [0.7647, 0.7631, 0.7630,  ..., 0.7350, 0.7477, 0.7617],\n",
            "           [0.7632, 0.7624, 0.7623,  ..., 0.7256, 0.7327, 0.7450],\n",
            "           [0.7608, 0.7671, 0.7675,  ..., 0.7144, 0.7230, 0.7359]]],\n",
            "\n",
            "\n",
            "         [[[0.3868, 0.4473, 0.4706,  ..., 0.9092, 0.7556, 0.5608],\n",
            "           [0.4408, 0.4899, 0.5280,  ..., 0.8849, 0.9043, 0.7336],\n",
            "           [0.5042, 0.5461, 0.5672,  ..., 0.8786, 0.8786, 0.8610],\n",
            "           ...,\n",
            "           [0.2056, 0.2831, 0.3291,  ..., 0.8924, 0.8359, 0.9407],\n",
            "           [0.1985, 0.2529, 0.3204,  ..., 0.8877, 0.8643, 0.9482],\n",
            "           [0.3096, 0.2811, 0.2795,  ..., 0.8728, 0.8855, 0.9432]]],\n",
            "\n",
            "\n",
            "         [[[0.3301, 0.3394, 0.3466,  ..., 0.8183, 0.8385, 0.8637],\n",
            "           [0.3034, 0.3218, 0.3498,  ..., 0.8110, 0.7952, 0.8257],\n",
            "           [0.3118, 0.2826, 0.3533,  ..., 0.8121, 0.7668, 0.7821],\n",
            "           ...,\n",
            "           [0.7725, 0.7770, 0.7878,  ..., 0.7123, 0.7198, 0.7350],\n",
            "           [0.7730, 0.7834, 0.7942,  ..., 0.7191, 0.7312, 0.7429],\n",
            "           [0.7804, 0.7804, 0.7839,  ..., 0.7228, 0.7232, 0.7068]]],\n",
            "\n",
            "\n",
            "         ...,\n",
            "\n",
            "\n",
            "         [[[0.6523, 0.8089, 0.7924,  ..., 0.5837, 0.5813, 0.5696],\n",
            "           [0.8051, 0.7979, 0.8240,  ..., 0.5854, 0.5839, 0.5710],\n",
            "           [0.7985, 0.8125, 0.8635,  ..., 0.5866, 0.5783, 0.5645],\n",
            "           ...,\n",
            "           [0.7979, 0.6869, 0.7683,  ..., 0.6043, 0.6148, 0.6538],\n",
            "           [0.8500, 0.6669, 0.7188,  ..., 0.6235, 0.6507, 0.7035],\n",
            "           [0.8941, 0.6662, 0.6756,  ..., 0.6373, 0.6844, 0.7433]]],\n",
            "\n",
            "\n",
            "         [[[0.8637, 0.8385, 0.8183,  ..., 0.3466, 0.3394, 0.3301],\n",
            "           [0.8257, 0.7952, 0.8110,  ..., 0.3498, 0.3218, 0.3034],\n",
            "           [0.7821, 0.7668, 0.8121,  ..., 0.3533, 0.2826, 0.3118],\n",
            "           ...,\n",
            "           [0.7350, 0.7198, 0.7123,  ..., 0.7878, 0.7770, 0.7725],\n",
            "           [0.7429, 0.7312, 0.7191,  ..., 0.7942, 0.7834, 0.7730],\n",
            "           [0.7068, 0.7232, 0.7228,  ..., 0.7839, 0.7804, 0.7804]]],\n",
            "\n",
            "\n",
            "         [[[0.8155, 0.8376, 0.8359,  ..., 0.4793, 0.4175, 0.3303],\n",
            "           [0.8274, 0.8478, 0.8222,  ..., 0.5187, 0.4506, 0.3862],\n",
            "           [0.8432, 0.8315, 0.8040,  ..., 0.5299, 0.4584, 0.4091],\n",
            "           ...,\n",
            "           [0.8346, 0.8113, 0.7553,  ..., 0.4905, 0.6933, 0.7688],\n",
            "           [0.8112, 0.8089, 0.7573,  ..., 0.5384, 0.7079, 0.7677],\n",
            "           [0.7746, 0.8023, 0.7576,  ..., 0.6313, 0.7309, 0.7625]]]],\n",
            "\n",
            "\n",
            "\n",
            "        [[[[0.2941, 0.2053, 0.2325,  ..., 0.7874, 0.7656, 0.7587],\n",
            "           [0.2941, 0.2266, 0.2792,  ..., 0.8273, 0.8127, 0.7563],\n",
            "           [0.3569, 0.2254, 0.3276,  ..., 0.7989, 0.7759, 0.7105],\n",
            "           ...,\n",
            "           [0.9725, 0.9725, 0.9659,  ..., 0.3844, 0.4130, 0.5645],\n",
            "           [0.9725, 0.9725, 0.9659,  ..., 0.3991, 0.4961, 0.6559],\n",
            "           [0.9686, 0.9686, 0.9653,  ..., 0.4551, 0.5868, 0.7032]]],\n",
            "\n",
            "\n",
            "         [[[0.8918, 0.8996, 0.9074,  ..., 0.2081, 0.1890, 0.1961],\n",
            "           [0.8900, 0.8957, 0.9048,  ..., 0.1846, 0.1669, 0.1882],\n",
            "           [0.8860, 0.8966, 0.9099,  ..., 0.2011, 0.1662, 0.1804],\n",
            "           ...,\n",
            "           [0.7270, 0.7147, 0.7428,  ..., 0.9614, 0.9651, 0.9686],\n",
            "           [0.7852, 0.7388, 0.7439,  ..., 0.9833, 0.9580, 0.9686],\n",
            "           [0.8147, 0.7520, 0.7374,  ..., 0.9900, 0.9572, 0.9608]]],\n",
            "\n",
            "\n",
            "         [[[0.1961, 0.2138, 0.2388,  ..., 0.4642, 0.4879, 0.5393],\n",
            "           [0.1961, 0.2067, 0.2442,  ..., 0.5779, 0.4898, 0.5023],\n",
            "           [0.1961, 0.2032, 0.2337,  ..., 0.5908, 0.4838, 0.4871],\n",
            "           ...,\n",
            "           [0.9647, 0.9612, 0.9575,  ..., 0.4918, 0.5638, 0.5904],\n",
            "           [0.9647, 0.9576, 0.9569,  ..., 0.5506, 0.6554, 0.5849],\n",
            "           [0.9608, 0.9572, 0.9569,  ..., 0.6888, 0.6449, 0.4718]]],\n",
            "\n",
            "\n",
            "         ...,\n",
            "\n",
            "\n",
            "         [[[0.2000, 0.1893, 0.2346,  ..., 0.6549, 0.5711, 0.5491],\n",
            "           [0.1882, 0.1847, 0.2174,  ..., 0.8667, 0.8248, 0.6732],\n",
            "           [0.1922, 0.1886, 0.2114,  ..., 0.8623, 0.8831, 0.8363],\n",
            "           ...,\n",
            "           [0.9882, 0.8176, 0.3004,  ..., 0.7480, 0.7256, 0.7197],\n",
            "           [0.8941, 0.3610, 0.1801,  ..., 0.7063, 0.7221, 0.6578],\n",
            "           [0.4039, 0.1871, 0.1813,  ..., 0.7211, 0.7256, 0.5614]]],\n",
            "\n",
            "\n",
            "         [[[0.5393, 0.4879, 0.4642,  ..., 0.2388, 0.2138, 0.1961],\n",
            "           [0.5023, 0.4898, 0.5779,  ..., 0.2442, 0.2067, 0.1961],\n",
            "           [0.4871, 0.4838, 0.5908,  ..., 0.2337, 0.2032, 0.1961],\n",
            "           ...,\n",
            "           [0.5904, 0.5638, 0.4918,  ..., 0.9575, 0.9612, 0.9647],\n",
            "           [0.5849, 0.6554, 0.5506,  ..., 0.9569, 0.9576, 0.9647],\n",
            "           [0.4718, 0.6449, 0.6888,  ..., 0.9569, 0.9572, 0.9608]]],\n",
            "\n",
            "\n",
            "         [[[0.4847, 0.5203, 0.5572,  ..., 0.8626, 0.8335, 0.7360],\n",
            "           [0.4554, 0.4991, 0.5618,  ..., 0.8555, 0.8055, 0.6772],\n",
            "           [0.4279, 0.4794, 0.5414,  ..., 0.8523, 0.7923, 0.6471],\n",
            "           ...,\n",
            "           [0.6266, 0.4711, 0.5387,  ..., 0.8227, 0.9185, 0.9692],\n",
            "           [0.6315, 0.4414, 0.4933,  ..., 0.8473, 0.9518, 0.9647],\n",
            "           [0.3208, 0.3422, 0.4706,  ..., 0.8801, 0.9632, 0.9540]]]],\n",
            "\n",
            "\n",
            "\n",
            "        [[[[0.8275, 0.8078, 0.3373,  ..., 0.4941, 0.5333, 0.4039],\n",
            "           [0.8275, 0.7725, 0.3922,  ..., 0.4941, 0.4941, 0.4196],\n",
            "           [0.8353, 0.7843, 0.3569,  ..., 0.5529, 0.5137, 0.4980],\n",
            "           ...,\n",
            "           [0.7569, 0.6980, 0.6000,  ..., 0.8314, 0.7922, 0.6941],\n",
            "           [0.7569, 0.7137, 0.6196,  ..., 0.8157, 0.7843, 0.6549],\n",
            "           [0.7569, 0.7255, 0.6471,  ..., 0.8039, 0.7804, 0.6431]]],\n",
            "\n",
            "\n",
            "         [[[0.4549, 0.5451, 0.4706,  ..., 0.4039, 0.4392, 0.3216],\n",
            "           [0.4235, 0.5412, 0.4078,  ..., 0.4941, 0.5059, 0.4078],\n",
            "           [0.4863, 0.4980, 0.4863,  ..., 0.5294, 0.5294, 0.5529],\n",
            "           ...,\n",
            "           [0.6157, 0.6784, 0.7059,  ..., 0.5765, 0.5843, 0.5961],\n",
            "           [0.6196, 0.6784, 0.6980,  ..., 0.6510, 0.6039, 0.5804],\n",
            "           [0.6118, 0.6667, 0.6980,  ..., 0.4353, 0.5451, 0.6196]]],\n",
            "\n",
            "\n",
            "         [[[0.7373, 0.8157, 0.4235,  ..., 0.9451, 0.9137, 0.9216],\n",
            "           [0.7451, 0.8235, 0.4235,  ..., 0.9490, 0.9098, 0.8902],\n",
            "           [0.7569, 0.8078, 0.5804,  ..., 0.9490, 0.9216, 0.8980],\n",
            "           ...,\n",
            "           [0.7412, 0.7451, 0.7020,  ..., 0.7216, 0.7059, 0.6941],\n",
            "           [0.7961, 0.7843, 0.6157,  ..., 0.7333, 0.7059, 0.6784],\n",
            "           [0.5725, 0.4510, 0.4000,  ..., 0.6980, 0.6941, 0.6627]]],\n",
            "\n",
            "\n",
            "         ...,\n",
            "\n",
            "\n",
            "         [[[0.5255, 0.3020, 0.4157,  ..., 0.9608, 0.9294, 0.9137],\n",
            "           [0.6157, 0.3529, 0.4431,  ..., 0.9412, 0.9137, 0.9020],\n",
            "           [0.6157, 0.4275, 0.4196,  ..., 0.9294, 0.9255, 0.8941],\n",
            "           ...,\n",
            "           [0.4353, 0.3922, 0.8353,  ..., 0.7765, 0.8039, 0.3608],\n",
            "           [0.4392, 0.3882, 0.8510,  ..., 0.8157, 0.8745, 0.4118],\n",
            "           [0.4588, 0.3686, 0.8039,  ..., 0.8549, 0.9020, 0.3843]]],\n",
            "\n",
            "\n",
            "         [[[0.9216, 0.9137, 0.9451,  ..., 0.4235, 0.8157, 0.7373],\n",
            "           [0.8902, 0.9098, 0.9490,  ..., 0.4235, 0.8235, 0.7451],\n",
            "           [0.8980, 0.9216, 0.9490,  ..., 0.5804, 0.8078, 0.7569],\n",
            "           ...,\n",
            "           [0.6941, 0.7059, 0.7216,  ..., 0.7020, 0.7451, 0.7412],\n",
            "           [0.6784, 0.7059, 0.7333,  ..., 0.6157, 0.7843, 0.7961],\n",
            "           [0.6627, 0.6941, 0.6980,  ..., 0.4000, 0.4510, 0.5725]]],\n",
            "\n",
            "\n",
            "         [[[0.5294, 0.5451, 0.6314,  ..., 0.5804, 0.4784, 0.5804],\n",
            "           [0.5255, 0.5686, 0.7490,  ..., 0.7216, 0.5608, 0.5059],\n",
            "           [0.5137, 0.5843, 0.7686,  ..., 0.7294, 0.6392, 0.4784],\n",
            "           ...,\n",
            "           [0.6902, 0.6784, 0.6902,  ..., 0.5725, 0.5725, 0.5686],\n",
            "           [0.6980, 0.6745, 0.6667,  ..., 0.5725, 0.5647, 0.5686],\n",
            "           [0.6941, 0.6549, 0.6549,  ..., 0.5804, 0.5647, 0.5647]]]]])\n",
            "tensor([2, 3, 4, 0, 5, 3, 6, 2, 3, 4, 6, 3, 2, 5, 3, 3, 3, 2, 6, 3, 5, 2, 3, 3,\n",
            "        5, 3, 3, 3, 5, 5, 3, 3, 6, 6, 3, 3, 4, 6, 4, 3, 4, 4, 6, 5, 2, 3, 5, 4,\n",
            "        4, 4, 6, 0, 3, 0, 3, 4, 5, 2, 5, 3, 3, 3, 0, 4])\n"
          ]
        }
      ]
    },
    {
      "cell_type": "code",
      "source": [
        "!pip install neptune-client"
      ],
      "metadata": {
        "id": "B30F5BUhKQAN"
      },
      "execution_count": null,
      "outputs": []
    }
  ]
}