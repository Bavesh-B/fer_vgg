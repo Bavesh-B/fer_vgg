{
  "nbformat": 4,
  "nbformat_minor": 0,
  "metadata": {
    "colab": {
      "name": "FER 2013 First model trying .ipynb",
      "provenance": []
    },
    "kernelspec": {
      "name": "python3",
      "display_name": "Python 3"
    },
    "language_info": {
      "name": "python"
    },
    "accelerator": "GPU"
  },
  "cells": [
    {
      "cell_type": "code",
      "execution_count": 24,
      "metadata": {
        "id": "c23vt-BfxuX7"
      },
      "outputs": [],
      "source": [
        "import pandas as pd\n",
        "import numpy as np\n",
        "import matplotlib.pyplot as plt\n",
        "%matplotlib inline\n",
        "\n",
        "import os,glob\n",
        "from tqdm import tqdm\n",
        "tqdm.pandas()\n",
        "import shutil\n",
        "import torch,torchvision\n",
        "from torch.utils.data import DataLoader\n",
        "import torch.nn as nn\n",
        "import torch.nn.functional as F\n",
        "from PIL import Image\n",
        "import cv2\n",
        "import warnings\n",
        "\n",
        "warnings.filterwarnings('ignore')\n",
        "\n",
        "from torch.cuda.amp import GradScaler\n",
        "from torch.optim.lr_scheduler import ReduceLROnPlateau\n",
        "from torchvision import transforms\n",
        "from torch.cuda.amp import autocast"
      ]
    },
    {
      "cell_type": "code",
      "source": [
        "from google.colab import drive\n",
        "drive._mount('/content/drive')"
      ],
      "metadata": {
        "colab": {
          "base_uri": "https://localhost:8080/"
        },
        "id": "jAFC52VaG2_J",
        "outputId": "0b448159-4738-4f53-bf85-2a33b36f9aab"
      },
      "execution_count": 25,
      "outputs": [
        {
          "output_type": "stream",
          "name": "stdout",
          "text": [
            "Drive already mounted at /content/drive; to attempt to forcibly remount, call drive.mount(\"/content/drive\", force_remount=True).\n"
          ]
        }
      ]
    },
    {
      "cell_type": "code",
      "source": [
        "!ls /content/drive/MyDrive/fer2013/models"
      ],
      "metadata": {
        "id": "QEz8RYmEAsYs"
      },
      "execution_count": 27,
      "outputs": []
    },
    {
      "cell_type": "code",
      "source": [
        "class Block(nn.Module):\n",
        "  def __init__(self, in_channels):\n",
        "    super().__init__()\n",
        "    self.in_channels = in_channels\n",
        "    self.out_channels = (64 if self.in_channels == 1 else 2 * self.in_channels)\n",
        "\n",
        "    self.block =  nn.Sequential(\n",
        "        nn.Conv2d(self.in_channels, self.out_channels, kernel_size = 3, padding = 1),\n",
        "        nn.BatchNorm2d(self.out_channels),\n",
        "        nn.ReLU(inplace = True),\n",
        "        nn.Conv2d(self.out_channels, self.out_channels, kernel_size = 3, padding = 1),\n",
        "        nn.BatchNorm2d(self.out_channels),\n",
        "        nn.ReLU(inplace = True),\n",
        "        nn.MaxPool2d(kernel_size = 2, stride = 2),\n",
        "\n",
        "    )\n",
        "\n",
        "  def forward(self, x):\n",
        "    out = self.block(x)\n",
        "    return out"
      ],
      "metadata": {
        "id": "nzNcNv9dyo7C"
      },
      "execution_count": 28,
      "outputs": []
    },
    {
      "cell_type": "code",
      "source": [
        "Block(64)"
      ],
      "metadata": {
        "colab": {
          "base_uri": "https://localhost:8080/"
        },
        "id": "0DcML54h0fCG",
        "outputId": "94de0bd0-0df0-468c-e055-dae6246b1703"
      },
      "execution_count": 29,
      "outputs": [
        {
          "output_type": "execute_result",
          "data": {
            "text/plain": [
              "Block(\n",
              "  (block): Sequential(\n",
              "    (0): Conv2d(64, 128, kernel_size=(3, 3), stride=(1, 1), padding=(1, 1))\n",
              "    (1): BatchNorm2d(128, eps=1e-05, momentum=0.1, affine=True, track_running_stats=True)\n",
              "    (2): ReLU(inplace=True)\n",
              "    (3): Conv2d(128, 128, kernel_size=(3, 3), stride=(1, 1), padding=(1, 1))\n",
              "    (4): BatchNorm2d(128, eps=1e-05, momentum=0.1, affine=True, track_running_stats=True)\n",
              "    (5): ReLU(inplace=True)\n",
              "    (6): MaxPool2d(kernel_size=2, stride=2, padding=0, dilation=1, ceil_mode=False)\n",
              "  )\n",
              ")"
            ]
          },
          "metadata": {},
          "execution_count": 29
        }
      ]
    },
    {
      "cell_type": "code",
      "source": [
        "class Vgg(nn.Module):\n",
        "  def __init__(self, block, drop = 0.2, num_classes = 7):\n",
        "    super().__init__()\n",
        "\n",
        "    self.layer1 = self._make_layer(block, 1)\n",
        "    self.layer2 = self._make_layer(block, 64)\n",
        "    self.layer3 = self._make_layer(block, 128)\n",
        "    self.layer4 = self._make_layer(block, 256)\n",
        "\n",
        "    self.drop = nn.Dropout(p = drop)\n",
        "    self.fc1 = nn.Linear(512 * 2 * 2, 4096)\n",
        "    self.fc2 = nn.Linear(4096, 4096)\n",
        "    self.fc3 = nn.Linear(4096, num_classes)\n",
        "\n",
        "  def _make_layer(self, block, in_channels):\n",
        "    return block(in_channels)\n",
        "\n",
        "  def forward(self, x):\n",
        "    out = self.layer1(x)\n",
        "    out = self.layer2(out)\n",
        "    out = self.layer3(out)\n",
        "    out = self.layer4(out)\n",
        "\n",
        "    out = torch.flatten(out, 1)\n",
        "    out = F.relu(self.drop(self.fc1(out)))\n",
        "    out = F.relu(self.drop(self.fc2(out)))\n",
        "    out = self.fc3(out)\n",
        "\n",
        "    return out\n"
      ],
      "metadata": {
        "id": "9IsjtFTg0iG_"
      },
      "execution_count": 30,
      "outputs": []
    },
    {
      "cell_type": "code",
      "source": [
        "Vgg(Block)"
      ],
      "metadata": {
        "colab": {
          "base_uri": "https://localhost:8080/"
        },
        "id": "J1EjuFJn3q0_",
        "outputId": "fdbc7c51-f436-4fcf-9562-e15170a1bd52"
      },
      "execution_count": 31,
      "outputs": [
        {
          "output_type": "execute_result",
          "data": {
            "text/plain": [
              "Vgg(\n",
              "  (layer1): Block(\n",
              "    (block): Sequential(\n",
              "      (0): Conv2d(1, 64, kernel_size=(3, 3), stride=(1, 1), padding=(1, 1))\n",
              "      (1): BatchNorm2d(64, eps=1e-05, momentum=0.1, affine=True, track_running_stats=True)\n",
              "      (2): ReLU(inplace=True)\n",
              "      (3): Conv2d(64, 64, kernel_size=(3, 3), stride=(1, 1), padding=(1, 1))\n",
              "      (4): BatchNorm2d(64, eps=1e-05, momentum=0.1, affine=True, track_running_stats=True)\n",
              "      (5): ReLU(inplace=True)\n",
              "      (6): MaxPool2d(kernel_size=2, stride=2, padding=0, dilation=1, ceil_mode=False)\n",
              "    )\n",
              "  )\n",
              "  (layer2): Block(\n",
              "    (block): Sequential(\n",
              "      (0): Conv2d(64, 128, kernel_size=(3, 3), stride=(1, 1), padding=(1, 1))\n",
              "      (1): BatchNorm2d(128, eps=1e-05, momentum=0.1, affine=True, track_running_stats=True)\n",
              "      (2): ReLU(inplace=True)\n",
              "      (3): Conv2d(128, 128, kernel_size=(3, 3), stride=(1, 1), padding=(1, 1))\n",
              "      (4): BatchNorm2d(128, eps=1e-05, momentum=0.1, affine=True, track_running_stats=True)\n",
              "      (5): ReLU(inplace=True)\n",
              "      (6): MaxPool2d(kernel_size=2, stride=2, padding=0, dilation=1, ceil_mode=False)\n",
              "    )\n",
              "  )\n",
              "  (layer3): Block(\n",
              "    (block): Sequential(\n",
              "      (0): Conv2d(128, 256, kernel_size=(3, 3), stride=(1, 1), padding=(1, 1))\n",
              "      (1): BatchNorm2d(256, eps=1e-05, momentum=0.1, affine=True, track_running_stats=True)\n",
              "      (2): ReLU(inplace=True)\n",
              "      (3): Conv2d(256, 256, kernel_size=(3, 3), stride=(1, 1), padding=(1, 1))\n",
              "      (4): BatchNorm2d(256, eps=1e-05, momentum=0.1, affine=True, track_running_stats=True)\n",
              "      (5): ReLU(inplace=True)\n",
              "      (6): MaxPool2d(kernel_size=2, stride=2, padding=0, dilation=1, ceil_mode=False)\n",
              "    )\n",
              "  )\n",
              "  (layer4): Block(\n",
              "    (block): Sequential(\n",
              "      (0): Conv2d(256, 512, kernel_size=(3, 3), stride=(1, 1), padding=(1, 1))\n",
              "      (1): BatchNorm2d(512, eps=1e-05, momentum=0.1, affine=True, track_running_stats=True)\n",
              "      (2): ReLU(inplace=True)\n",
              "      (3): Conv2d(512, 512, kernel_size=(3, 3), stride=(1, 1), padding=(1, 1))\n",
              "      (4): BatchNorm2d(512, eps=1e-05, momentum=0.1, affine=True, track_running_stats=True)\n",
              "      (5): ReLU(inplace=True)\n",
              "      (6): MaxPool2d(kernel_size=2, stride=2, padding=0, dilation=1, ceil_mode=False)\n",
              "    )\n",
              "  )\n",
              "  (drop): Dropout(p=0.2, inplace=False)\n",
              "  (fc1): Linear(in_features=2048, out_features=4096, bias=True)\n",
              "  (fc2): Linear(in_features=4096, out_features=4096, bias=True)\n",
              "  (fc3): Linear(in_features=4096, out_features=7, bias=True)\n",
              ")"
            ]
          },
          "metadata": {},
          "execution_count": 31
        }
      ]
    },
    {
      "cell_type": "code",
      "source": [
        "from torch.utils.data import Dataset"
      ],
      "metadata": {
        "id": "9siVrZLlHt9M"
      },
      "execution_count": 32,
      "outputs": []
    },
    {
      "cell_type": "code",
      "source": [
        "class CustomDataset(Dataset):\n",
        "    def __init__(self, images, labels, transform=None, augment=False):\n",
        "        self.images = images\n",
        "        self.labels = labels\n",
        "        self.transform = transform\n",
        "\n",
        "        self.augment = augment\n",
        "\n",
        "    def __len__(self):\n",
        "        return len(self.images)\n",
        "\n",
        "    def __getitem__(self, idx):\n",
        "        if torch.is_tensor(idx):\n",
        "            idx = idx.tolist()\n",
        "\n",
        "        img = np.array(self.images[idx])\n",
        "\n",
        "        img = Image.fromarray(img)\n",
        "\n",
        "        if self.transform:\n",
        "            img = self.transform(img)\n",
        "\n",
        "        label = torch.tensor(self.labels[idx]).type(torch.long)\n",
        "        sample = (img, label)\n",
        "\n",
        "        return sample"
      ],
      "metadata": {
        "id": "OinATq9K3tus"
      },
      "execution_count": 33,
      "outputs": []
    },
    {
      "cell_type": "code",
      "source": [
        "def load_data(path='/content/drive/MyDrive/fer2013/fer2013.csv'):\n",
        "    fer2013 = pd.read_csv(path)\n",
        "    emotion_mapping = {0: 'Angry', 1: 'Disgust', 2: 'Fear', 3: 'Happy', 4: 'Sad', 5: 'Surprise', 6: 'Neutral'}\n",
        "\n",
        "    return fer2013, emotion_mapping\n",
        "\n",
        "\n",
        "def prepare_data(data):\n",
        "    \"\"\" Prepare data for modeling\n",
        "        input: data frame with labels und pixel data\n",
        "        output: image and label array \"\"\"\n",
        "\n",
        "    image_array = np.zeros(shape=(len(data), 48, 48))\n",
        "    image_label = np.array(list(map(int, data['emotion'])))\n",
        "\n",
        "    for i, row in enumerate(data.index):\n",
        "        image = np.fromstring(data.loc[row, 'pixels'], dtype=int, sep=' ')\n",
        "        image = np.reshape(image, (48, 48))\n",
        "        image_array[i] = image\n",
        "\n",
        "    return image_array, image_label\n",
        "\n",
        "\n",
        "def get_dataloaders(path='/content/drive/MyDrive/fer2013/fer2013.csv', bs=64, augment=True):\n",
        "    \"\"\" Prepare train, val, & test dataloaders\n",
        "        Augment training data using:\n",
        "            - cropping\n",
        "            - shifting (vertical/horizental)\n",
        "            - horizental flipping\n",
        "            - rotation\n",
        "        input: path to fer2013 csv file\n",
        "        output: (Dataloader, Dataloader, Dataloader) \"\"\"\n",
        "\n",
        "    fer2013, emotion_mapping = load_data(path)\n",
        "\n",
        "    xtrain, ytrain = prepare_data(fer2013[fer2013['Usage'] == 'Training'])\n",
        "    xval, yval = prepare_data(fer2013[fer2013['Usage'] == 'PrivateTest'])\n",
        "    xtest, ytest = prepare_data(fer2013[fer2013['Usage'] == 'PublicTest'])\n",
        "\n",
        "    mu, st = 0, 255\n",
        "\n",
        "    test_transform = transforms.Compose([\n",
        "        # transforms.Scale(52),\n",
        "        transforms.TenCrop(40),\n",
        "        transforms.Lambda(lambda crops: torch.stack([transforms.ToTensor()(crop) for crop in crops])),\n",
        "        transforms.Lambda(lambda tensors: torch.stack([transforms.Normalize(mean=(mu,), std=(st,))(t) for t in tensors])),\n",
        "    ])\n",
        "\n",
        "    if augment:\n",
        "        train_transform = transforms.Compose([\n",
        "            transforms.RandomResizedCrop(48, scale=(0.8, 1.2)),\n",
        "            transforms.RandomApply([transforms.RandomAffine(0, translate=(0.2, 0.2))], p=0.5),\n",
        "            transforms.RandomHorizontalFlip(),\n",
        "            transforms.RandomApply([transforms.RandomRotation(10)], p=0.5),\n",
        "\n",
        "            transforms.TenCrop(40),\n",
        "            transforms.Lambda(lambda crops: torch.stack([transforms.ToTensor()(crop) for crop in crops])),\n",
        "            transforms.Lambda(lambda tensors: torch.stack([transforms.Normalize(mean=(mu,), std=(st,))(t) for t in tensors])),\n",
        "            transforms.Lambda(lambda tensors: torch.stack([transforms.RandomErasing(p=0.5)(t) for t in tensors])),\n",
        "        ])\n",
        "    else:\n",
        "        train_transform = test_transform\n",
        "\n",
        "    # X = np.vstack((xtrain, xval))\n",
        "    # Y = np.hstack((ytrain, yval))\n",
        "\n",
        "    train = CustomDataset(xtrain, ytrain, train_transform)\n",
        "    val = CustomDataset(xval, yval, test_transform)\n",
        "    test = CustomDataset(xtest, ytest, test_transform)\n",
        "\n",
        "    trainloader = DataLoader(train, batch_size=bs, shuffle=True, num_workers=2)\n",
        "    valloader = DataLoader(val, batch_size=64, shuffle=True, num_workers=2)\n",
        "    testloader = DataLoader(test, batch_size=64, shuffle=True, num_workers=2)\n",
        "\n",
        "    return trainloader, valloader, testloader"
      ],
      "metadata": {
        "id": "qQOz4tynkvGN"
      },
      "execution_count": 34,
      "outputs": []
    },
    {
      "cell_type": "code",
      "source": [
        "device = torch.device(\"cuda:0\" if torch.cuda.is_available() else \"cpu\")\n",
        "\n",
        "\n",
        "def train(net, dataloader, criterion, optimizer, scaler, Ncrop=True):\n",
        "    net = net.train()\n",
        "    loss_tr, correct_count, n_samples = 0.0, 0.0, 0.0\n",
        "    iters = len(dataloader)  # number of batches, not images\n",
        "\n",
        "    for i, data in tqdm(enumerate(dataloader)):\n",
        "        inputs, labels = data\n",
        "        inputs, labels = inputs.to(device), labels.to(device)\n",
        "\n",
        "        # print(f'batch number: {i+1}')\n",
        "        # print('before autocast')\n",
        "        with autocast():\n",
        "            if Ncrop:\n",
        "                # fuse crops and batchsize\n",
        "                # print('Ncrop started!!')\n",
        "                bs, ncrops, c, h, w = inputs.shape\n",
        "                inputs = inputs.view(-1, c, h, w)\n",
        "\n",
        "            # print('Ncrop over!!')\n",
        "            # repeat labels ncrops times\n",
        "            labels = torch.repeat_interleave(labels, repeats=ncrops, dim=0)\n",
        "\n",
        "            # print('repeat labels done!!')\n",
        "            # forward + backward + optimize\n",
        "            outputs = net(inputs)\n",
        "            # print('model output taken!!')\n",
        "            loss = criterion(outputs, labels)\n",
        "            # print('loss calaculated!!')\n",
        "            scaler.scale(loss).backward()\n",
        "            # print('scaler scaled!!')\n",
        "\n",
        "            scaler.step(optimizer)\n",
        "            # print('scaler step!!')\n",
        "            scaler.update()\n",
        "            # print('scaler update done!!')\n",
        "            optimizer.zero_grad()\n",
        "            # print('optimizer weights cleared!!')\n",
        "            # scheduler.step(epoch + i / iters)\n",
        "\n",
        "            # calculate performance metrics\n",
        "            loss_tr += loss.item()\n",
        "\n",
        "            _, preds = torch.max(outputs.data, 1)\n",
        "            correct_count += (preds == labels).sum().item()\n",
        "            n_samples += labels.size(0)\n",
        "\n",
        "    acc = 100 * correct_count / n_samples\n",
        "    loss = loss_tr / n_samples\n",
        "\n",
        "    return acc, loss\n",
        "\n",
        "\n",
        "def evaluate(net, dataloader, criterion, Ncrop=True):\n",
        "    net = net.eval()\n",
        "    loss_tr, correct_count, n_samples = 0.0, 0.0, 0.0\n",
        "    for data in tqdm(dataloader):\n",
        "        inputs, labels = data\n",
        "        inputs, labels = inputs.to(device), labels.to(device)\n",
        "        if Ncrop:\n",
        "            # fuse crops and batchsize\n",
        "            bs, ncrops, c, h, w = inputs.shape\n",
        "            inputs = inputs.view(-1, c, h, w)\n",
        "            # forward\n",
        "            outputs = net(inputs)\n",
        "            # combine results across the crops\n",
        "            outputs = outputs.view(bs, ncrops, -1)\n",
        "            outputs = torch.sum(outputs, dim=1) / ncrops\n",
        "        else:\n",
        "            outputs = net(inputs)\n",
        "\n",
        "        loss = criterion(outputs, labels)\n",
        "\n",
        "        # calculate performance metrics\n",
        "        loss_tr += loss.item()\n",
        "\n",
        "        _, preds = torch.max(outputs.data, 1)\n",
        "        correct_count += (preds == labels).sum().item()\n",
        "        n_samples += labels.size(0)\n",
        "\n",
        "    acc = 100 * correct_count / n_samples\n",
        "    loss = loss_tr / n_samples\n",
        "\n",
        "    return acc, loss"
      ],
      "metadata": {
        "id": "nGHCvJOYlcT9"
      },
      "execution_count": 35,
      "outputs": []
    },
    {
      "cell_type": "code",
      "source": [
        "import os\n",
        "\n",
        "hps = {\n",
        "    'network': '',  # which network do you want to train\n",
        "    'name': '',  # whatever you want to name your run\n",
        "    'n_epochs': 300,\n",
        "    'model_save_dir': '/content/drive/MyDrive/fer2013/models',  # where will checkpoints be stored (path created automatically using hps[name])\n",
        "    'restore_epoch': None,  # continue training from a specific saved point\n",
        "    'start_epoch': 0,\n",
        "    'lr': 0.01,  # starting learning rate\n",
        "    'save_freq': 20,  # how often to create checkpoints\n",
        "    'drop': 0.1,\n",
        "    'bs': 64,\n",
        "}\n",
        "\n",
        "# possible_nets = set(filename.split(\".\")[0] for filename in os.listdir('models'))\n",
        "\n",
        "\n",
        "def setup_hparams(args):\n",
        "    for arg in args:\n",
        "        key, value = arg.split('=')\n",
        "        if key not in hps:\n",
        "            raise ValueError(key + ' is not a valid hyper parameter')\n",
        "        else:\n",
        "            hps[key] = value\n",
        "\n",
        "    # Invalid network check\n",
        "    if hps['network'] not in possible_nets:\n",
        "        raise ValueError(\"Invalid network.\\nPossible ones include:\\n - \" + '\\n - '.join(possible_nets))\n",
        "\n",
        "    # invalid parameter check\n",
        "    try:\n",
        "        hps['n_epochs'] = int(hps['n_epochs'])\n",
        "        hps['start_epoch'] = int(hps['start_epoch'])\n",
        "        hps['save_freq'] = int(hps['save_freq'])\n",
        "        hps['lr'] = float(hps['lr'])\n",
        "        hps['drop'] = float(hps['drop'])\n",
        "        hps['bs'] = int(hps['bs'])\n",
        "\n",
        "        if hps['restore_epoch']:\n",
        "            hps['restore_epoch'] = int(hps['restore_epoch'])\n",
        "            hps['start_epoch'] = int(hps['restore_epoch'])\n",
        "\n",
        "        # make sure we can checkpoint regularly or at least once (at the end)\n",
        "        if hps['n_epochs'] < 20:\n",
        "            hps['save_freq'] = min(5, hps['n_epochs'])\n",
        "\n",
        "    except Exception as e:\n",
        "        raise ValueError(\"Invalid input parameters\")\n",
        "\n",
        "    # create checkpoint directory\n",
        "    # hps['model_save_dir'] = os.path.join(os.getcwd(), 'checkpoints', hps['name'])\n",
        "\n",
        "    if not os.path.exists(hps['model_save_dir']):\n",
        "        os.makedirs(hps['model_save_dir'])\n",
        "\n",
        "    return hps"
      ],
      "metadata": {
        "id": "9mdAf8tvtUvH"
      },
      "execution_count": 36,
      "outputs": []
    },
    {
      "cell_type": "code",
      "source": [
        "type(hps['bs'])"
      ],
      "metadata": {
        "colab": {
          "base_uri": "https://localhost:8080/"
        },
        "id": "0L5doWDTH7Bw",
        "outputId": "422feb34-4593-4d53-be77-9bd2eea88fe1"
      },
      "execution_count": 37,
      "outputs": [
        {
          "output_type": "execute_result",
          "data": {
            "text/plain": [
              "int"
            ]
          },
          "metadata": {},
          "execution_count": 37
        }
      ]
    },
    {
      "cell_type": "code",
      "source": [
        "net = Vgg(Block)"
      ],
      "metadata": {
        "id": "nnlYzs6cH_e-"
      },
      "execution_count": 48,
      "outputs": []
    },
    {
      "cell_type": "code",
      "source": [
        "net.to(device)\n",
        "scaler = GradScaler()\n",
        "optimizer = torch.optim.SGD(net.parameters(), lr=hps['lr'], momentum=0.9, nesterov=True, weight_decay=0.0001)\n",
        "\n",
        "scheduler = ReduceLROnPlateau(optimizer, mode='max', factor=0.75, patience=5, verbose=True)\n",
        "criterion = nn.CrossEntropyLoss()\n"
      ],
      "metadata": {
        "id": "6Gr2GPg4qqKx"
      },
      "execution_count": 49,
      "outputs": []
    },
    {
      "cell_type": "code",
      "source": [
        "best_acc = 0.0\n",
        "\n",
        "# net.to(device)\n",
        "trainloader, valloader, testloader = get_dataloaders(bs = hps['bs'])\n",
        "print(\"Training\", \"on\", device)\n",
        "for epoch in range(hps['start_epoch'], hps['n_epochs']):\n",
        "\n",
        "  acc_tr, loss_tr = train(net, trainloader, criterion, optimizer, scaler)\n",
        "  run['metrics/train_loss'].log(loss_tr)\n",
        "  run['metrics/train_acc'].log(acc_tr)\n",
        "        # logger.loss_train.append(loss_tr)\n",
        "        # logger.acc_train.append(acc_tr)\n",
        "\n",
        "  acc_v, loss_v = evaluate(net, valloader, criterion)\n",
        "  run['metrics/val_loss'].log(loss_v)\n",
        "  run['metrics/val_acc'].log(acc_v)\n",
        "        # logger.loss_val.append(loss_v)\n",
        "        # logger.acc_val.append(acc_v)\n",
        "\n",
        "        # Update learning rate\n",
        "  scheduler.step(acc_v)\n",
        "  run['learning_rate'].log(optimizer.param_groups[0]['lr'])\n",
        "\n",
        "  if acc_v > best_acc:\n",
        "    best_acc = acc_v\n",
        "    path = os.path.join(hps['model_save_dir'], 'epoch_' + str(epoch))\n",
        "    torch.save(net.state_dict(), path)\n",
        "\n",
        "    # save(net, logger, hps, epoch + 1)\n",
        "            # logger.save_plt(hps)\n",
        "\n",
        "  if (epoch + 1) % hps['save_freq'] == 0:\n",
        "    path = os.path.join(hps['model_save_dir'], 'epoch_' + str(epoch))\n",
        "    torch.save(net.state_dict(), path)\n",
        "    # save(net, logger, hps, epoch + 1)\n",
        "            # logger.save_plt(hps)\n",
        "\n",
        "  checkpoint = {\n",
        "      'epoch' : epoch,\n",
        "      'model' : net.state_dict(),\n",
        "      'optimizer' : optimizer.state_dict(),\n",
        "      'scheduler' : scheduler,\n",
        "      'scaler' : scaler.state_dict()\n",
        "  }\n",
        "\n",
        "  torch.save(checkpoint, '/content/drive/MyDrive/fer2013/checkpoints/model1.pth')\n",
        "\n",
        "  print('Epoch %2d' % (epoch + 1),\n",
        "              'Train Accuracy: %2.4f %%' % acc_tr,\n",
        "              'Val Accuracy: %2.4f %%' % acc_v,\n",
        "              sep='\\t\\t')\n",
        "\n",
        "    # Calculate performance on test set\n",
        "acc_test, loss_test = evaluate(net, testloader, criterion)\n",
        "print('Test Accuracy: %2.4f %%' % acc_test,\n",
        "          'Test Loss: %2.6f' % loss_test,\n",
        "          sep='\\t\\t')"
      ],
      "metadata": {
        "colab": {
          "base_uri": "https://localhost:8080/",
          "height": 1000
        },
        "id": "JPBopTTEtUYH",
        "outputId": "78aa83d3-ba29-4764-c650-2091f206512a"
      },
      "execution_count": 50,
      "outputs": [
        {
          "output_type": "stream",
          "name": "stdout",
          "text": [
            "Training on cuda:0\n"
          ]
        },
        {
          "output_type": "stream",
          "name": "stderr",
          "text": [
            "449it [01:26,  5.19it/s]\n",
            "100%|██████████| 57/57 [00:07<00:00,  8.10it/s]\n"
          ]
        },
        {
          "output_type": "stream",
          "name": "stdout",
          "text": [
            "Epoch  1\t\tTrain Accuracy: 34.2056 %\t\tVal Accuracy: 50.0975 %\n"
          ]
        },
        {
          "output_type": "stream",
          "name": "stderr",
          "text": [
            "449it [01:25,  5.22it/s]\n",
            "100%|██████████| 57/57 [00:07<00:00,  8.07it/s]\n"
          ]
        },
        {
          "output_type": "stream",
          "name": "stdout",
          "text": [
            "Epoch  2\t\tTrain Accuracy: 48.3270 %\t\tVal Accuracy: 53.6082 %\n"
          ]
        },
        {
          "output_type": "stream",
          "name": "stderr",
          "text": [
            "449it [01:25,  5.27it/s]\n",
            "100%|██████████| 57/57 [00:07<00:00,  8.12it/s]\n"
          ]
        },
        {
          "output_type": "stream",
          "name": "stdout",
          "text": [
            "Epoch  3\t\tTrain Accuracy: 52.8681 %\t\tVal Accuracy: 56.9239 %\n"
          ]
        },
        {
          "output_type": "stream",
          "name": "stderr",
          "text": [
            "449it [01:24,  5.33it/s]\n",
            "100%|██████████| 57/57 [00:06<00:00,  8.18it/s]\n"
          ]
        },
        {
          "output_type": "stream",
          "name": "stdout",
          "text": [
            "Epoch  4\t\tTrain Accuracy: 55.4513 %\t\tVal Accuracy: 62.2179 %\n"
          ]
        },
        {
          "output_type": "stream",
          "name": "stderr",
          "text": [
            "449it [01:24,  5.30it/s]\n",
            "100%|██████████| 57/57 [00:07<00:00,  8.14it/s]\n"
          ]
        },
        {
          "output_type": "stream",
          "name": "stdout",
          "text": [
            "Epoch  5\t\tTrain Accuracy: 57.0873 %\t\tVal Accuracy: 62.9980 %\n"
          ]
        },
        {
          "output_type": "stream",
          "name": "stderr",
          "text": [
            "449it [01:24,  5.32it/s]\n",
            "100%|██████████| 57/57 [00:06<00:00,  8.17it/s]\n"
          ]
        },
        {
          "output_type": "stream",
          "name": "stdout",
          "text": [
            "Epoch  6\t\tTrain Accuracy: 58.6220 %\t\tVal Accuracy: 60.9919 %\n"
          ]
        },
        {
          "output_type": "stream",
          "name": "stderr",
          "text": [
            "449it [01:23,  5.35it/s]\n",
            "100%|██████████| 57/57 [00:07<00:00,  8.10it/s]\n"
          ]
        },
        {
          "output_type": "stream",
          "name": "stdout",
          "text": [
            "Epoch  7\t\tTrain Accuracy: 59.7607 %\t\tVal Accuracy: 63.6389 %\n"
          ]
        },
        {
          "output_type": "stream",
          "name": "stderr",
          "text": [
            "449it [01:24,  5.29it/s]\n",
            "100%|██████████| 57/57 [00:06<00:00,  8.17it/s]\n"
          ]
        },
        {
          "output_type": "stream",
          "name": "stdout",
          "text": [
            "Epoch  8\t\tTrain Accuracy: 60.6134 %\t\tVal Accuracy: 63.1095 %\n"
          ]
        },
        {
          "output_type": "stream",
          "name": "stderr",
          "text": [
            "449it [01:24,  5.34it/s]\n",
            "100%|██████████| 57/57 [00:06<00:00,  8.19it/s]\n"
          ]
        },
        {
          "output_type": "stream",
          "name": "stdout",
          "text": [
            "Epoch  9\t\tTrain Accuracy: 61.8513 %\t\tVal Accuracy: 64.7256 %\n"
          ]
        },
        {
          "output_type": "stream",
          "name": "stderr",
          "text": [
            "449it [01:25,  5.22it/s]\n",
            "100%|██████████| 57/57 [00:07<00:00,  8.14it/s]\n"
          ]
        },
        {
          "output_type": "stream",
          "name": "stdout",
          "text": [
            "Epoch 10\t\tTrain Accuracy: 62.4066 %\t\tVal Accuracy: 65.8679 %\n"
          ]
        },
        {
          "output_type": "stream",
          "name": "stderr",
          "text": [
            "449it [01:24,  5.32it/s]\n",
            "100%|██████████| 57/57 [00:06<00:00,  8.14it/s]\n"
          ]
        },
        {
          "output_type": "stream",
          "name": "stdout",
          "text": [
            "Epoch 11\t\tTrain Accuracy: 63.0158 %\t\tVal Accuracy: 65.1714 %\n"
          ]
        },
        {
          "output_type": "stream",
          "name": "stderr",
          "text": [
            "449it [01:23,  5.35it/s]\n",
            "100%|██████████| 57/57 [00:06<00:00,  8.21it/s]\n"
          ]
        },
        {
          "output_type": "stream",
          "name": "stdout",
          "text": [
            "Epoch 12\t\tTrain Accuracy: 63.9340 %\t\tVal Accuracy: 65.9515 %\n"
          ]
        },
        {
          "output_type": "stream",
          "name": "stderr",
          "text": [
            "449it [01:24,  5.34it/s]\n",
            "100%|██████████| 57/57 [00:06<00:00,  8.26it/s]\n"
          ]
        },
        {
          "output_type": "stream",
          "name": "stdout",
          "text": [
            "Epoch 13\t\tTrain Accuracy: 64.5770 %\t\tVal Accuracy: 65.3107 %\n"
          ]
        },
        {
          "output_type": "stream",
          "name": "stderr",
          "text": [
            "449it [01:23,  5.40it/s]\n",
            "100%|██████████| 57/57 [00:06<00:00,  8.24it/s]\n"
          ]
        },
        {
          "output_type": "stream",
          "name": "stdout",
          "text": [
            "Epoch 14\t\tTrain Accuracy: 65.2656 %\t\tVal Accuracy: 67.5954 %\n"
          ]
        },
        {
          "output_type": "stream",
          "name": "stderr",
          "text": [
            "449it [01:23,  5.35it/s]\n",
            "100%|██████████| 57/57 [00:06<00:00,  8.16it/s]\n"
          ]
        },
        {
          "output_type": "stream",
          "name": "stdout",
          "text": [
            "Epoch 15\t\tTrain Accuracy: 65.9302 %\t\tVal Accuracy: 67.0382 %\n"
          ]
        },
        {
          "output_type": "stream",
          "name": "stderr",
          "text": [
            "449it [01:23,  5.35it/s]\n",
            "100%|██████████| 57/57 [00:06<00:00,  8.20it/s]\n"
          ]
        },
        {
          "output_type": "stream",
          "name": "stdout",
          "text": [
            "Epoch 16\t\tTrain Accuracy: 66.3691 %\t\tVal Accuracy: 66.9546 %\n"
          ]
        },
        {
          "output_type": "stream",
          "name": "stderr",
          "text": [
            "449it [01:24,  5.33it/s]\n",
            "100%|██████████| 57/57 [00:06<00:00,  8.15it/s]\n"
          ]
        },
        {
          "output_type": "stream",
          "name": "stdout",
          "text": [
            "Epoch 17\t\tTrain Accuracy: 67.0633 %\t\tVal Accuracy: 68.6821 %\n"
          ]
        },
        {
          "output_type": "stream",
          "name": "stderr",
          "text": [
            "449it [01:25,  5.27it/s]\n",
            "100%|██████████| 57/57 [00:07<00:00,  8.07it/s]\n"
          ]
        },
        {
          "output_type": "stream",
          "name": "stdout",
          "text": [
            "Epoch 18\t\tTrain Accuracy: 67.6081 %\t\tVal Accuracy: 68.7935 %\n"
          ]
        },
        {
          "output_type": "stream",
          "name": "stderr",
          "text": [
            "449it [01:26,  5.19it/s]\n",
            "100%|██████████| 57/57 [00:06<00:00,  8.16it/s]\n"
          ]
        },
        {
          "output_type": "stream",
          "name": "stdout",
          "text": [
            "Epoch 19\t\tTrain Accuracy: 68.0797 %\t\tVal Accuracy: 68.4870 %\n"
          ]
        },
        {
          "output_type": "stream",
          "name": "stderr",
          "text": [
            "449it [01:24,  5.30it/s]\n",
            "100%|██████████| 57/57 [00:07<00:00,  8.09it/s]\n"
          ]
        },
        {
          "output_type": "stream",
          "name": "stdout",
          "text": [
            "Epoch 20\t\tTrain Accuracy: 68.7248 %\t\tVal Accuracy: 65.1992 %\n"
          ]
        },
        {
          "output_type": "stream",
          "name": "stderr",
          "text": [
            "449it [01:24,  5.30it/s]\n",
            "100%|██████████| 57/57 [00:06<00:00,  8.15it/s]\n"
          ]
        },
        {
          "output_type": "stream",
          "name": "stdout",
          "text": [
            "Epoch 21\t\tTrain Accuracy: 69.2379 %\t\tVal Accuracy: 68.7099 %\n"
          ]
        },
        {
          "output_type": "stream",
          "name": "stderr",
          "text": [
            "449it [01:23,  5.35it/s]\n",
            "100%|██████████| 57/57 [00:06<00:00,  8.22it/s]\n"
          ]
        },
        {
          "output_type": "stream",
          "name": "stdout",
          "text": [
            "Epoch 22\t\tTrain Accuracy: 69.8440 %\t\tVal Accuracy: 68.6821 %\n"
          ]
        },
        {
          "output_type": "stream",
          "name": "stderr",
          "text": [
            "449it [01:23,  5.36it/s]\n",
            "100%|██████████| 57/57 [00:06<00:00,  8.16it/s]\n"
          ]
        },
        {
          "output_type": "stream",
          "name": "stdout",
          "text": [
            "Epoch 23\t\tTrain Accuracy: 70.3494 %\t\tVal Accuracy: 67.7069 %\n"
          ]
        },
        {
          "output_type": "stream",
          "name": "stderr",
          "text": [
            "449it [01:23,  5.37it/s]\n",
            "100%|██████████| 57/57 [00:06<00:00,  8.24it/s]\n"
          ]
        },
        {
          "output_type": "stream",
          "name": "stdout",
          "text": [
            "Epoch    24: reducing learning rate of group 0 to 7.5000e-03.\n",
            "Epoch 24\t\tTrain Accuracy: 70.7290 %\t\tVal Accuracy: 68.3756 %\n"
          ]
        },
        {
          "output_type": "stream",
          "name": "stderr",
          "text": [
            "449it [01:23,  5.36it/s]\n",
            "100%|██████████| 57/57 [00:06<00:00,  8.19it/s]\n"
          ]
        },
        {
          "output_type": "stream",
          "name": "stdout",
          "text": [
            "Epoch 25\t\tTrain Accuracy: 72.4268 %\t\tVal Accuracy: 68.7099 %\n"
          ]
        },
        {
          "output_type": "stream",
          "name": "stderr",
          "text": [
            "449it [01:23,  5.37it/s]\n",
            "100%|██████████| 57/57 [00:06<00:00,  8.17it/s]\n"
          ]
        },
        {
          "output_type": "stream",
          "name": "stdout",
          "text": [
            "Epoch 26\t\tTrain Accuracy: 73.1245 %\t\tVal Accuracy: 69.7687 %\n"
          ]
        },
        {
          "output_type": "stream",
          "name": "stderr",
          "text": [
            "449it [01:25,  5.28it/s]\n",
            "100%|██████████| 57/57 [00:07<00:00,  8.09it/s]\n"
          ]
        },
        {
          "output_type": "stream",
          "name": "stdout",
          "text": [
            "Epoch 27\t\tTrain Accuracy: 73.5254 %\t\tVal Accuracy: 70.7718 %\n"
          ]
        },
        {
          "output_type": "stream",
          "name": "stderr",
          "text": [
            "449it [01:23,  5.36it/s]\n",
            "100%|██████████| 57/57 [00:06<00:00,  8.24it/s]\n"
          ]
        },
        {
          "output_type": "stream",
          "name": "stdout",
          "text": [
            "Epoch 28\t\tTrain Accuracy: 74.1214 %\t\tVal Accuracy: 69.9081 %\n"
          ]
        },
        {
          "output_type": "stream",
          "name": "stderr",
          "text": [
            "449it [01:23,  5.37it/s]\n",
            "100%|██████████| 57/57 [00:06<00:00,  8.20it/s]\n"
          ]
        },
        {
          "output_type": "stream",
          "name": "stdout",
          "text": [
            "Epoch 29\t\tTrain Accuracy: 74.6421 %\t\tVal Accuracy: 70.2145 %\n"
          ]
        },
        {
          "output_type": "stream",
          "name": "stderr",
          "text": [
            "449it [01:23,  5.37it/s]\n",
            "100%|██████████| 57/57 [00:06<00:00,  8.21it/s]\n"
          ]
        },
        {
          "output_type": "stream",
          "name": "stdout",
          "text": [
            "Epoch 30\t\tTrain Accuracy: 74.9208 %\t\tVal Accuracy: 67.3447 %\n"
          ]
        },
        {
          "output_type": "stream",
          "name": "stderr",
          "text": [
            "449it [01:23,  5.37it/s]\n",
            "100%|██████████| 57/57 [00:06<00:00,  8.21it/s]\n"
          ]
        },
        {
          "output_type": "stream",
          "name": "stdout",
          "text": [
            "Epoch 31\t\tTrain Accuracy: 75.4948 %\t\tVal Accuracy: 71.1062 %\n"
          ]
        },
        {
          "output_type": "stream",
          "name": "stderr",
          "text": [
            "449it [01:23,  5.37it/s]\n",
            "100%|██████████| 57/57 [00:06<00:00,  8.22it/s]\n"
          ]
        },
        {
          "output_type": "stream",
          "name": "stdout",
          "text": [
            "Epoch 32\t\tTrain Accuracy: 75.9002 %\t\tVal Accuracy: 71.6913 %\n"
          ]
        },
        {
          "output_type": "stream",
          "name": "stderr",
          "text": [
            "449it [01:24,  5.31it/s]\n",
            "100%|██████████| 57/57 [00:06<00:00,  8.20it/s]\n"
          ]
        },
        {
          "output_type": "stream",
          "name": "stdout",
          "text": [
            "Epoch 33\t\tTrain Accuracy: 76.5063 %\t\tVal Accuracy: 71.2455 %\n"
          ]
        },
        {
          "output_type": "stream",
          "name": "stderr",
          "text": [
            "449it [01:23,  5.36it/s]\n",
            "100%|██████████| 57/57 [00:06<00:00,  8.31it/s]\n"
          ]
        },
        {
          "output_type": "stream",
          "name": "stdout",
          "text": [
            "Epoch 34\t\tTrain Accuracy: 76.8435 %\t\tVal Accuracy: 70.8554 %\n"
          ]
        },
        {
          "output_type": "stream",
          "name": "stderr",
          "text": [
            "449it [01:23,  5.39it/s]\n",
            "100%|██████████| 57/57 [00:06<00:00,  8.23it/s]\n"
          ]
        },
        {
          "output_type": "stream",
          "name": "stdout",
          "text": [
            "Epoch 35\t\tTrain Accuracy: 77.2002 %\t\tVal Accuracy: 69.3229 %\n"
          ]
        },
        {
          "output_type": "stream",
          "name": "stderr",
          "text": [
            "449it [01:23,  5.38it/s]\n",
            "100%|██████████| 57/57 [00:06<00:00,  8.34it/s]\n"
          ]
        },
        {
          "output_type": "stream",
          "name": "stdout",
          "text": [
            "Epoch 36\t\tTrain Accuracy: 77.7150 %\t\tVal Accuracy: 70.2703 %\n"
          ]
        },
        {
          "output_type": "stream",
          "name": "stderr",
          "text": [
            "449it [01:22,  5.42it/s]\n",
            "100%|██████████| 57/57 [00:06<00:00,  8.28it/s]\n"
          ]
        },
        {
          "output_type": "stream",
          "name": "stdout",
          "text": [
            "Epoch 37\t\tTrain Accuracy: 78.0334 %\t\tVal Accuracy: 71.6077 %\n"
          ]
        },
        {
          "output_type": "stream",
          "name": "stderr",
          "text": [
            "449it [01:23,  5.36it/s]\n",
            "100%|██████████| 57/57 [00:06<00:00,  8.31it/s]\n"
          ]
        },
        {
          "output_type": "stream",
          "name": "stdout",
          "text": [
            "Epoch    38: reducing learning rate of group 0 to 5.6250e-03.\n",
            "Epoch 38\t\tTrain Accuracy: 78.4468 %\t\tVal Accuracy: 70.4932 %\n"
          ]
        },
        {
          "output_type": "stream",
          "name": "stderr",
          "text": [
            "449it [01:23,  5.39it/s]\n",
            "100%|██████████| 57/57 [00:06<00:00,  8.29it/s]\n"
          ]
        },
        {
          "output_type": "stream",
          "name": "stdout",
          "text": [
            "Epoch 39\t\tTrain Accuracy: 80.1303 %\t\tVal Accuracy: 70.9668 %\n"
          ]
        },
        {
          "output_type": "stream",
          "name": "stderr",
          "text": [
            "449it [01:23,  5.38it/s]\n",
            "100%|██████████| 57/57 [00:06<00:00,  8.31it/s]\n"
          ]
        },
        {
          "output_type": "stream",
          "name": "stdout",
          "text": [
            "Epoch 40\t\tTrain Accuracy: 80.6994 %\t\tVal Accuracy: 70.0195 %\n"
          ]
        },
        {
          "output_type": "stream",
          "name": "stderr",
          "text": [
            "449it [01:23,  5.35it/s]\n",
            "100%|██████████| 57/57 [00:06<00:00,  8.30it/s]\n"
          ]
        },
        {
          "output_type": "stream",
          "name": "stdout",
          "text": [
            "Epoch 41\t\tTrain Accuracy: 80.7287 %\t\tVal Accuracy: 71.5798 %\n"
          ]
        },
        {
          "output_type": "stream",
          "name": "stderr",
          "text": [
            "449it [01:23,  5.35it/s]\n",
            "100%|██████████| 57/57 [00:06<00:00,  8.24it/s]\n"
          ]
        },
        {
          "output_type": "stream",
          "name": "stdout",
          "text": [
            "Epoch 42\t\tTrain Accuracy: 81.4995 %\t\tVal Accuracy: 71.4405 %\n"
          ]
        },
        {
          "output_type": "stream",
          "name": "stderr",
          "text": [
            "449it [01:23,  5.37it/s]\n",
            "100%|██████████| 57/57 [00:06<00:00,  8.25it/s]\n"
          ]
        },
        {
          "output_type": "stream",
          "name": "stdout",
          "text": [
            "Epoch 43\t\tTrain Accuracy: 81.5936 %\t\tVal Accuracy: 71.5520 %\n"
          ]
        },
        {
          "output_type": "stream",
          "name": "stderr",
          "text": [
            "449it [01:23,  5.40it/s]\n",
            "100%|██████████| 57/57 [00:06<00:00,  8.22it/s]\n"
          ]
        },
        {
          "output_type": "stream",
          "name": "stdout",
          "text": [
            "Epoch    44: reducing learning rate of group 0 to 4.2188e-03.\n",
            "Epoch 44\t\tTrain Accuracy: 82.1251 %\t\tVal Accuracy: 71.6077 %\n"
          ]
        },
        {
          "output_type": "stream",
          "name": "stderr",
          "text": [
            "449it [01:23,  5.37it/s]\n",
            "100%|██████████| 57/57 [00:06<00:00,  8.18it/s]\n"
          ]
        },
        {
          "output_type": "stream",
          "name": "stdout",
          "text": [
            "Epoch 45\t\tTrain Accuracy: 83.2471 %\t\tVal Accuracy: 72.4993 %\n"
          ]
        },
        {
          "output_type": "stream",
          "name": "stderr",
          "text": [
            "449it [01:24,  5.29it/s]\n",
            "100%|██████████| 57/57 [00:07<00:00,  8.13it/s]\n"
          ]
        },
        {
          "output_type": "stream",
          "name": "stdout",
          "text": [
            "Epoch 46\t\tTrain Accuracy: 83.7368 %\t\tVal Accuracy: 72.0814 %\n"
          ]
        },
        {
          "output_type": "stream",
          "name": "stderr",
          "text": [
            "449it [01:24,  5.34it/s]\n",
            "100%|██████████| 57/57 [00:06<00:00,  8.19it/s]\n"
          ]
        },
        {
          "output_type": "stream",
          "name": "stdout",
          "text": [
            "Epoch 47\t\tTrain Accuracy: 84.1057 %\t\tVal Accuracy: 71.8027 %\n"
          ]
        },
        {
          "output_type": "stream",
          "name": "stderr",
          "text": [
            "449it [01:23,  5.36it/s]\n",
            "100%|██████████| 57/57 [00:06<00:00,  8.24it/s]\n"
          ]
        },
        {
          "output_type": "stream",
          "name": "stdout",
          "text": [
            "Epoch 48\t\tTrain Accuracy: 84.4408 %\t\tVal Accuracy: 72.5272 %\n"
          ]
        },
        {
          "output_type": "stream",
          "name": "stderr",
          "text": [
            "449it [01:24,  5.32it/s]\n",
            "100%|██████████| 57/57 [00:06<00:00,  8.23it/s]\n"
          ]
        },
        {
          "output_type": "stream",
          "name": "stdout",
          "text": [
            "Epoch 49\t\tTrain Accuracy: 84.4888 %\t\tVal Accuracy: 72.5550 %\n"
          ]
        },
        {
          "output_type": "stream",
          "name": "stderr",
          "text": [
            "449it [01:24,  5.31it/s]\n",
            "100%|██████████| 57/57 [00:06<00:00,  8.16it/s]\n"
          ]
        },
        {
          "output_type": "stream",
          "name": "stdout",
          "text": [
            "Epoch 50\t\tTrain Accuracy: 84.6950 %\t\tVal Accuracy: 71.9978 %\n"
          ]
        },
        {
          "output_type": "stream",
          "name": "stderr",
          "text": [
            "449it [01:24,  5.33it/s]\n",
            "100%|██████████| 57/57 [00:06<00:00,  8.31it/s]\n"
          ]
        },
        {
          "output_type": "stream",
          "name": "stdout",
          "text": [
            "Epoch 51\t\tTrain Accuracy: 84.8051 %\t\tVal Accuracy: 72.5272 %\n"
          ]
        },
        {
          "output_type": "stream",
          "name": "stderr",
          "text": [
            "449it [01:24,  5.34it/s]\n",
            "100%|██████████| 57/57 [00:06<00:00,  8.21it/s]\n"
          ]
        },
        {
          "output_type": "stream",
          "name": "stdout",
          "text": [
            "Epoch 52\t\tTrain Accuracy: 85.0705 %\t\tVal Accuracy: 71.7470 %\n"
          ]
        },
        {
          "output_type": "stream",
          "name": "stderr",
          "text": [
            "449it [01:23,  5.36it/s]\n",
            "100%|██████████| 57/57 [00:06<00:00,  8.28it/s]\n"
          ]
        },
        {
          "output_type": "stream",
          "name": "stdout",
          "text": [
            "Epoch 53\t\tTrain Accuracy: 85.3541 %\t\tVal Accuracy: 71.4405 %\n"
          ]
        },
        {
          "output_type": "stream",
          "name": "stderr",
          "text": [
            "449it [01:23,  5.39it/s]\n",
            "100%|██████████| 57/57 [00:06<00:00,  8.26it/s]\n"
          ]
        },
        {
          "output_type": "stream",
          "name": "stdout",
          "text": [
            "Epoch 54\t\tTrain Accuracy: 85.7400 %\t\tVal Accuracy: 71.2176 %\n"
          ]
        },
        {
          "output_type": "stream",
          "name": "stderr",
          "text": [
            "449it [01:23,  5.36it/s]\n",
            "100%|██████████| 57/57 [00:06<00:00,  8.32it/s]\n"
          ]
        },
        {
          "output_type": "stream",
          "name": "stdout",
          "text": [
            "Epoch    55: reducing learning rate of group 0 to 3.1641e-03.\n",
            "Epoch 55\t\tTrain Accuracy: 85.8738 %\t\tVal Accuracy: 71.3291 %\n"
          ]
        },
        {
          "output_type": "stream",
          "name": "stderr",
          "text": [
            "449it [01:23,  5.35it/s]\n",
            "100%|██████████| 57/57 [00:06<00:00,  8.30it/s]\n"
          ]
        },
        {
          "output_type": "stream",
          "name": "stdout",
          "text": [
            "Epoch 56\t\tTrain Accuracy: 86.7000 %\t\tVal Accuracy: 72.2485 %\n"
          ]
        },
        {
          "output_type": "stream",
          "name": "stderr",
          "text": [
            "449it [01:23,  5.37it/s]\n",
            "100%|██████████| 57/57 [00:06<00:00,  8.22it/s]\n"
          ]
        },
        {
          "output_type": "stream",
          "name": "stdout",
          "text": [
            "Epoch 57\t\tTrain Accuracy: 87.1890 %\t\tVal Accuracy: 73.1680 %\n"
          ]
        },
        {
          "output_type": "stream",
          "name": "stderr",
          "text": [
            "449it [01:25,  5.27it/s]\n",
            "100%|██████████| 57/57 [00:07<00:00,  8.05it/s]\n"
          ]
        },
        {
          "output_type": "stream",
          "name": "stdout",
          "text": [
            "Epoch 58\t\tTrain Accuracy: 87.4266 %\t\tVal Accuracy: 71.9420 %\n"
          ]
        },
        {
          "output_type": "stream",
          "name": "stderr",
          "text": [
            "449it [01:24,  5.33it/s]\n",
            "100%|██████████| 57/57 [00:07<00:00,  8.12it/s]\n"
          ]
        },
        {
          "output_type": "stream",
          "name": "stdout",
          "text": [
            "Epoch 59\t\tTrain Accuracy: 87.5781 %\t\tVal Accuracy: 72.8894 %\n"
          ]
        },
        {
          "output_type": "stream",
          "name": "stderr",
          "text": [
            "449it [01:23,  5.39it/s]\n",
            "100%|██████████| 57/57 [00:06<00:00,  8.33it/s]\n"
          ]
        },
        {
          "output_type": "stream",
          "name": "stdout",
          "text": [
            "Epoch 60\t\tTrain Accuracy: 87.6060 %\t\tVal Accuracy: 72.3321 %\n"
          ]
        },
        {
          "output_type": "stream",
          "name": "stderr",
          "text": [
            "449it [01:24,  5.34it/s]\n",
            "100%|██████████| 57/57 [00:06<00:00,  8.26it/s]\n"
          ]
        },
        {
          "output_type": "stream",
          "name": "stdout",
          "text": [
            "Epoch 61\t\tTrain Accuracy: 87.7206 %\t\tVal Accuracy: 72.4993 %\n"
          ]
        },
        {
          "output_type": "stream",
          "name": "stderr",
          "text": [
            "449it [01:23,  5.38it/s]\n",
            "100%|██████████| 57/57 [00:07<00:00,  8.12it/s]\n"
          ]
        },
        {
          "output_type": "stream",
          "name": "stdout",
          "text": [
            "Epoch 62\t\tTrain Accuracy: 88.2420 %\t\tVal Accuracy: 72.9730 %\n"
          ]
        },
        {
          "output_type": "stream",
          "name": "stderr",
          "text": [
            "449it [01:24,  5.29it/s]\n",
            "100%|██████████| 57/57 [00:06<00:00,  8.21it/s]\n"
          ]
        },
        {
          "output_type": "stream",
          "name": "stdout",
          "text": [
            "Epoch    63: reducing learning rate of group 0 to 2.3730e-03.\n",
            "Epoch 63\t\tTrain Accuracy: 88.0821 %\t\tVal Accuracy: 72.9730 %\n"
          ]
        },
        {
          "output_type": "stream",
          "name": "stderr",
          "text": [
            "449it [01:23,  5.35it/s]\n",
            "100%|██████████| 57/57 [00:06<00:00,  8.30it/s]\n"
          ]
        },
        {
          "output_type": "stream",
          "name": "stdout",
          "text": [
            "Epoch 64\t\tTrain Accuracy: 88.7979 %\t\tVal Accuracy: 72.1928 %\n"
          ]
        },
        {
          "output_type": "stream",
          "name": "stderr",
          "text": [
            "449it [01:24,  5.32it/s]\n",
            "100%|██████████| 57/57 [00:06<00:00,  8.24it/s]\n"
          ]
        },
        {
          "output_type": "stream",
          "name": "stdout",
          "text": [
            "Epoch 65\t\tTrain Accuracy: 88.9735 %\t\tVal Accuracy: 72.8058 %\n"
          ]
        },
        {
          "output_type": "stream",
          "name": "stderr",
          "text": [
            "449it [01:22,  5.41it/s]\n",
            "100%|██████████| 57/57 [00:06<00:00,  8.27it/s]\n"
          ]
        },
        {
          "output_type": "stream",
          "name": "stdout",
          "text": [
            "Epoch 66\t\tTrain Accuracy: 89.3542 %\t\tVal Accuracy: 72.6386 %\n"
          ]
        },
        {
          "output_type": "stream",
          "name": "stderr",
          "text": [
            "449it [01:23,  5.36it/s]\n",
            "100%|██████████| 57/57 [00:06<00:00,  8.35it/s]\n"
          ]
        },
        {
          "output_type": "stream",
          "name": "stdout",
          "text": [
            "Epoch 67\t\tTrain Accuracy: 89.1800 %\t\tVal Accuracy: 72.3321 %\n"
          ]
        },
        {
          "output_type": "stream",
          "name": "stderr",
          "text": [
            "449it [01:23,  5.39it/s]\n",
            "100%|██████████| 57/57 [00:06<00:00,  8.26it/s]\n"
          ]
        },
        {
          "output_type": "stream",
          "name": "stdout",
          "text": [
            "Epoch 68\t\tTrain Accuracy: 89.3640 %\t\tVal Accuracy: 72.8615 %\n"
          ]
        },
        {
          "output_type": "stream",
          "name": "stderr",
          "text": [
            "449it [01:23,  5.38it/s]\n",
            "100%|██████████| 57/57 [00:06<00:00,  8.22it/s]\n"
          ]
        },
        {
          "output_type": "stream",
          "name": "stdout",
          "text": [
            "Epoch    69: reducing learning rate of group 0 to 1.7798e-03.\n",
            "Epoch 69\t\tTrain Accuracy: 89.5298 %\t\tVal Accuracy: 72.4436 %\n"
          ]
        },
        {
          "output_type": "stream",
          "name": "stderr",
          "text": [
            "449it [01:24,  5.33it/s]\n",
            "100%|██████████| 57/57 [00:06<00:00,  8.23it/s]\n"
          ]
        },
        {
          "output_type": "stream",
          "name": "stdout",
          "text": [
            "Epoch 70\t\tTrain Accuracy: 89.9822 %\t\tVal Accuracy: 73.4466 %\n"
          ]
        },
        {
          "output_type": "stream",
          "name": "stderr",
          "text": [
            "449it [01:24,  5.32it/s]\n",
            "100%|██████████| 57/57 [00:06<00:00,  8.22it/s]\n"
          ]
        },
        {
          "output_type": "stream",
          "name": "stdout",
          "text": [
            "Epoch 71\t\tTrain Accuracy: 90.2456 %\t\tVal Accuracy: 73.3073 %\n"
          ]
        },
        {
          "output_type": "stream",
          "name": "stderr",
          "text": [
            "449it [01:23,  5.37it/s]\n",
            "100%|██████████| 57/57 [00:06<00:00,  8.17it/s]\n"
          ]
        },
        {
          "output_type": "stream",
          "name": "stdout",
          "text": [
            "Epoch 72\t\tTrain Accuracy: 90.2525 %\t\tVal Accuracy: 73.1123 %\n"
          ]
        },
        {
          "output_type": "stream",
          "name": "stderr",
          "text": [
            "449it [01:23,  5.35it/s]\n",
            "100%|██████████| 57/57 [00:06<00:00,  8.19it/s]\n"
          ]
        },
        {
          "output_type": "stream",
          "name": "stdout",
          "text": [
            "Epoch 73\t\tTrain Accuracy: 90.4009 %\t\tVal Accuracy: 73.4745 %\n"
          ]
        },
        {
          "output_type": "stream",
          "name": "stderr",
          "text": [
            "449it [01:24,  5.31it/s]\n",
            "100%|██████████| 57/57 [00:06<00:00,  8.22it/s]\n"
          ]
        },
        {
          "output_type": "stream",
          "name": "stdout",
          "text": [
            "Epoch 74\t\tTrain Accuracy: 90.5072 %\t\tVal Accuracy: 71.9420 %\n"
          ]
        },
        {
          "output_type": "stream",
          "name": "stderr",
          "text": [
            "449it [01:23,  5.37it/s]\n",
            "100%|██████████| 57/57 [00:06<00:00,  8.29it/s]\n"
          ]
        },
        {
          "output_type": "stream",
          "name": "stdout",
          "text": [
            "Epoch 75\t\tTrain Accuracy: 90.5441 %\t\tVal Accuracy: 72.9172 %\n"
          ]
        },
        {
          "output_type": "stream",
          "name": "stderr",
          "text": [
            "449it [01:23,  5.39it/s]\n",
            "100%|██████████| 57/57 [00:06<00:00,  8.23it/s]\n"
          ]
        },
        {
          "output_type": "stream",
          "name": "stdout",
          "text": [
            "Epoch 76\t\tTrain Accuracy: 90.6061 %\t\tVal Accuracy: 73.3073 %\n"
          ]
        },
        {
          "output_type": "stream",
          "name": "stderr",
          "text": [
            "449it [01:23,  5.38it/s]\n",
            "100%|██████████| 57/57 [00:06<00:00,  8.31it/s]\n"
          ]
        },
        {
          "output_type": "stream",
          "name": "stdout",
          "text": [
            "Epoch 77\t\tTrain Accuracy: 90.6503 %\t\tVal Accuracy: 72.9730 %\n"
          ]
        },
        {
          "output_type": "stream",
          "name": "stderr",
          "text": [
            "449it [01:23,  5.36it/s]\n",
            "100%|██████████| 57/57 [00:06<00:00,  8.22it/s]\n"
          ]
        },
        {
          "output_type": "stream",
          "name": "stdout",
          "text": [
            "Epoch 78\t\tTrain Accuracy: 90.7701 %\t\tVal Accuracy: 73.1123 %\n"
          ]
        },
        {
          "output_type": "stream",
          "name": "stderr",
          "text": [
            "449it [01:23,  5.35it/s]\n",
            "100%|██████████| 57/57 [00:06<00:00,  8.23it/s]\n"
          ]
        },
        {
          "output_type": "stream",
          "name": "stdout",
          "text": [
            "Epoch    79: reducing learning rate of group 0 to 1.3348e-03.\n",
            "Epoch 79\t\tTrain Accuracy: 90.8346 %\t\tVal Accuracy: 71.7749 %\n"
          ]
        },
        {
          "output_type": "stream",
          "name": "stderr",
          "text": [
            "449it [01:23,  5.35it/s]\n",
            "100%|██████████| 57/57 [00:06<00:00,  8.21it/s]\n"
          ]
        },
        {
          "output_type": "stream",
          "name": "stdout",
          "text": [
            "Epoch 80\t\tTrain Accuracy: 91.1258 %\t\tVal Accuracy: 73.3073 %\n"
          ]
        },
        {
          "output_type": "stream",
          "name": "stderr",
          "text": [
            "449it [01:24,  5.32it/s]\n",
            "100%|██████████| 57/57 [00:06<00:00,  8.23it/s]\n"
          ]
        },
        {
          "output_type": "stream",
          "name": "stdout",
          "text": [
            "Epoch 81\t\tTrain Accuracy: 91.4191 %\t\tVal Accuracy: 72.6665 %\n"
          ]
        },
        {
          "output_type": "stream",
          "name": "stderr",
          "text": [
            "449it [01:23,  5.36it/s]\n",
            "100%|██████████| 57/57 [00:06<00:00,  8.23it/s]\n"
          ]
        },
        {
          "output_type": "stream",
          "name": "stdout",
          "text": [
            "Epoch 82\t\tTrain Accuracy: 91.4748 %\t\tVal Accuracy: 72.7779 %\n"
          ]
        },
        {
          "output_type": "stream",
          "name": "stderr",
          "text": [
            "449it [01:23,  5.37it/s]\n",
            "100%|██████████| 57/57 [00:06<00:00,  8.25it/s]\n"
          ]
        },
        {
          "output_type": "stream",
          "name": "stdout",
          "text": [
            "Epoch 83\t\tTrain Accuracy: 91.3219 %\t\tVal Accuracy: 72.9730 %\n"
          ]
        },
        {
          "output_type": "stream",
          "name": "stderr",
          "text": [
            "449it [01:23,  5.37it/s]\n",
            "100%|██████████| 57/57 [00:07<00:00,  8.11it/s]\n"
          ]
        },
        {
          "output_type": "stream",
          "name": "stdout",
          "text": [
            "Epoch 84\t\tTrain Accuracy: 91.5591 %\t\tVal Accuracy: 72.8615 %\n"
          ]
        },
        {
          "output_type": "stream",
          "name": "stderr",
          "text": [
            "449it [01:23,  5.36it/s]\n",
            "100%|██████████| 57/57 [00:06<00:00,  8.26it/s]\n"
          ]
        },
        {
          "output_type": "stream",
          "name": "stdout",
          "text": [
            "Epoch    85: reducing learning rate of group 0 to 1.0011e-03.\n",
            "Epoch 85\t\tTrain Accuracy: 91.5072 %\t\tVal Accuracy: 73.4745 %\n"
          ]
        },
        {
          "output_type": "stream",
          "name": "stderr",
          "text": [
            "449it [01:24,  5.34it/s]\n",
            "100%|██████████| 57/57 [00:06<00:00,  8.24it/s]\n"
          ]
        },
        {
          "output_type": "stream",
          "name": "stdout",
          "text": [
            "Epoch 86\t\tTrain Accuracy: 91.7075 %\t\tVal Accuracy: 73.5860 %\n"
          ]
        },
        {
          "output_type": "stream",
          "name": "stderr",
          "text": [
            "449it [01:23,  5.35it/s]\n",
            "100%|██████████| 57/57 [00:06<00:00,  8.20it/s]\n"
          ]
        },
        {
          "output_type": "stream",
          "name": "stdout",
          "text": [
            "Epoch 87\t\tTrain Accuracy: 91.7883 %\t\tVal Accuracy: 72.8894 %\n"
          ]
        },
        {
          "output_type": "stream",
          "name": "stderr",
          "text": [
            "449it [01:24,  5.32it/s]\n",
            "100%|██████████| 57/57 [00:06<00:00,  8.21it/s]\n"
          ]
        },
        {
          "output_type": "stream",
          "name": "stdout",
          "text": [
            "Epoch 88\t\tTrain Accuracy: 91.8883 %\t\tVal Accuracy: 73.0566 %\n"
          ]
        },
        {
          "output_type": "stream",
          "name": "stderr",
          "text": [
            "449it [01:24,  5.32it/s]\n",
            "100%|██████████| 57/57 [00:06<00:00,  8.24it/s]\n"
          ]
        },
        {
          "output_type": "stream",
          "name": "stdout",
          "text": [
            "Epoch 89\t\tTrain Accuracy: 91.9158 %\t\tVal Accuracy: 73.1680 %\n"
          ]
        },
        {
          "output_type": "stream",
          "name": "stderr",
          "text": [
            "449it [01:24,  5.34it/s]\n",
            "100%|██████████| 57/57 [00:06<00:00,  8.21it/s]\n"
          ]
        },
        {
          "output_type": "stream",
          "name": "stdout",
          "text": [
            "Epoch 90\t\tTrain Accuracy: 91.9600 %\t\tVal Accuracy: 73.4466 %\n"
          ]
        },
        {
          "output_type": "stream",
          "name": "stderr",
          "text": [
            "449it [01:23,  5.39it/s]\n",
            "100%|██████████| 57/57 [00:06<00:00,  8.18it/s]\n"
          ]
        },
        {
          "output_type": "stream",
          "name": "stdout",
          "text": [
            "Epoch 91\t\tTrain Accuracy: 92.0384 %\t\tVal Accuracy: 73.5860 %\n"
          ]
        },
        {
          "output_type": "stream",
          "name": "stderr",
          "text": [
            "449it [01:23,  5.37it/s]\n",
            "100%|██████████| 57/57 [00:06<00:00,  8.16it/s]\n"
          ]
        },
        {
          "output_type": "stream",
          "name": "stdout",
          "text": [
            "Epoch    92: reducing learning rate of group 0 to 7.5085e-04.\n",
            "Epoch 92\t\tTrain Accuracy: 92.1265 %\t\tVal Accuracy: 73.2516 %\n"
          ]
        },
        {
          "output_type": "stream",
          "name": "stderr",
          "text": [
            "449it [01:24,  5.33it/s]\n",
            "100%|██████████| 57/57 [00:06<00:00,  8.17it/s]\n"
          ]
        },
        {
          "output_type": "stream",
          "name": "stdout",
          "text": [
            "Epoch 93\t\tTrain Accuracy: 92.2888 %\t\tVal Accuracy: 73.6974 %\n"
          ]
        },
        {
          "output_type": "stream",
          "name": "stderr",
          "text": [
            "449it [01:24,  5.33it/s]\n",
            "100%|██████████| 57/57 [00:06<00:00,  8.25it/s]\n"
          ]
        },
        {
          "output_type": "stream",
          "name": "stdout",
          "text": [
            "Epoch 94\t\tTrain Accuracy: 92.3404 %\t\tVal Accuracy: 74.0318 %\n"
          ]
        },
        {
          "output_type": "stream",
          "name": "stderr",
          "text": [
            "449it [01:24,  5.34it/s]\n",
            "100%|██████████| 57/57 [00:06<00:00,  8.24it/s]\n"
          ]
        },
        {
          "output_type": "stream",
          "name": "stdout",
          "text": [
            "Epoch 95\t\tTrain Accuracy: 92.3446 %\t\tVal Accuracy: 72.7501 %\n"
          ]
        },
        {
          "output_type": "stream",
          "name": "stderr",
          "text": [
            "449it [01:23,  5.37it/s]\n",
            "100%|██████████| 57/57 [00:06<00:00,  8.20it/s]\n"
          ]
        },
        {
          "output_type": "stream",
          "name": "stdout",
          "text": [
            "Epoch 96\t\tTrain Accuracy: 92.4421 %\t\tVal Accuracy: 73.5024 %\n"
          ]
        },
        {
          "output_type": "stream",
          "name": "stderr",
          "text": [
            "449it [01:23,  5.36it/s]\n",
            "100%|██████████| 57/57 [00:06<00:00,  8.21it/s]\n"
          ]
        },
        {
          "output_type": "stream",
          "name": "stdout",
          "text": [
            "Epoch 97\t\tTrain Accuracy: 92.4640 %\t\tVal Accuracy: 73.5860 %\n"
          ]
        },
        {
          "output_type": "stream",
          "name": "stderr",
          "text": [
            "449it [01:23,  5.37it/s]\n",
            "100%|██████████| 57/57 [00:06<00:00,  8.15it/s]\n"
          ]
        },
        {
          "output_type": "stream",
          "name": "stdout",
          "text": [
            "Epoch 98\t\tTrain Accuracy: 92.5037 %\t\tVal Accuracy: 73.5024 %\n"
          ]
        },
        {
          "output_type": "stream",
          "name": "stderr",
          "text": [
            "449it [01:24,  5.33it/s]\n",
            "100%|██████████| 57/57 [00:06<00:00,  8.18it/s]\n"
          ]
        },
        {
          "output_type": "stream",
          "name": "stdout",
          "text": [
            "Epoch 99\t\tTrain Accuracy: 92.5198 %\t\tVal Accuracy: 73.2516 %\n"
          ]
        },
        {
          "output_type": "stream",
          "name": "stderr",
          "text": [
            "449it [01:23,  5.37it/s]\n",
            "100%|██████████| 57/57 [00:06<00:00,  8.21it/s]\n"
          ]
        },
        {
          "output_type": "stream",
          "name": "stdout",
          "text": [
            "Epoch   100: reducing learning rate of group 0 to 5.6314e-04.\n",
            "Epoch 100\t\tTrain Accuracy: 92.6284 %\t\tVal Accuracy: 73.6974 %\n"
          ]
        },
        {
          "output_type": "stream",
          "name": "stderr",
          "text": [
            "449it [01:24,  5.32it/s]\n",
            "100%|██████████| 57/57 [00:06<00:00,  8.16it/s]\n"
          ]
        },
        {
          "output_type": "stream",
          "name": "stdout",
          "text": [
            "Epoch 101\t\tTrain Accuracy: 92.6915 %\t\tVal Accuracy: 73.6974 %\n"
          ]
        },
        {
          "output_type": "stream",
          "name": "stderr",
          "text": [
            "449it [01:24,  5.32it/s]\n",
            "100%|██████████| 57/57 [00:06<00:00,  8.16it/s]\n"
          ]
        },
        {
          "output_type": "stream",
          "name": "stdout",
          "text": [
            "Epoch 102\t\tTrain Accuracy: 92.6587 %\t\tVal Accuracy: 73.7531 %\n"
          ]
        },
        {
          "output_type": "stream",
          "name": "stderr",
          "text": [
            "449it [01:24,  5.33it/s]\n",
            "100%|██████████| 57/57 [00:06<00:00,  8.25it/s]\n"
          ]
        },
        {
          "output_type": "stream",
          "name": "stdout",
          "text": [
            "Epoch 103\t\tTrain Accuracy: 92.7866 %\t\tVal Accuracy: 73.3352 %\n"
          ]
        },
        {
          "output_type": "stream",
          "name": "stderr",
          "text": [
            "449it [01:24,  5.33it/s]\n",
            "100%|██████████| 57/57 [00:06<00:00,  8.19it/s]\n"
          ]
        },
        {
          "output_type": "stream",
          "name": "stdout",
          "text": [
            "Epoch 104\t\tTrain Accuracy: 92.8298 %\t\tVal Accuracy: 73.5581 %\n"
          ]
        },
        {
          "output_type": "stream",
          "name": "stderr",
          "text": [
            "449it [01:23,  5.35it/s]\n",
            "100%|██████████| 57/57 [00:07<00:00,  8.10it/s]\n"
          ]
        },
        {
          "output_type": "stream",
          "name": "stdout",
          "text": [
            "Epoch 105\t\tTrain Accuracy: 92.8521 %\t\tVal Accuracy: 73.6974 %\n"
          ]
        },
        {
          "output_type": "stream",
          "name": "stderr",
          "text": [
            "449it [01:24,  5.32it/s]\n",
            "100%|██████████| 57/57 [00:06<00:00,  8.17it/s]\n"
          ]
        },
        {
          "output_type": "stream",
          "name": "stdout",
          "text": [
            "Epoch 106\t\tTrain Accuracy: 92.7880 %\t\tVal Accuracy: 74.1989 %\n"
          ]
        },
        {
          "output_type": "stream",
          "name": "stderr",
          "text": [
            "449it [01:25,  5.28it/s]\n",
            "100%|██████████| 57/57 [00:06<00:00,  8.15it/s]\n"
          ]
        },
        {
          "output_type": "stream",
          "name": "stdout",
          "text": [
            "Epoch 107\t\tTrain Accuracy: 92.8737 %\t\tVal Accuracy: 73.6695 %\n"
          ]
        },
        {
          "output_type": "stream",
          "name": "stderr",
          "text": [
            "449it [01:24,  5.31it/s]\n",
            "100%|██████████| 57/57 [00:07<00:00,  8.12it/s]\n"
          ]
        },
        {
          "output_type": "stream",
          "name": "stdout",
          "text": [
            "Epoch 108\t\tTrain Accuracy: 92.8298 %\t\tVal Accuracy: 73.6417 %\n"
          ]
        },
        {
          "output_type": "stream",
          "name": "stderr",
          "text": [
            "449it [01:24,  5.33it/s]\n",
            "100%|██████████| 57/57 [00:06<00:00,  8.27it/s]\n"
          ]
        },
        {
          "output_type": "stream",
          "name": "stdout",
          "text": [
            "Epoch 109\t\tTrain Accuracy: 92.8249 %\t\tVal Accuracy: 73.7810 %\n"
          ]
        },
        {
          "output_type": "stream",
          "name": "stderr",
          "text": [
            "449it [01:23,  5.36it/s]\n",
            "100%|██████████| 57/57 [00:06<00:00,  8.22it/s]\n"
          ]
        },
        {
          "output_type": "stream",
          "name": "stdout",
          "text": [
            "Epoch 110\t\tTrain Accuracy: 92.9127 %\t\tVal Accuracy: 73.5024 %\n"
          ]
        },
        {
          "output_type": "stream",
          "name": "stderr",
          "text": [
            "449it [01:24,  5.34it/s]\n",
            "100%|██████████| 57/57 [00:07<00:00,  8.13it/s]\n"
          ]
        },
        {
          "output_type": "stream",
          "name": "stdout",
          "text": [
            "Epoch 111\t\tTrain Accuracy: 92.8866 %\t\tVal Accuracy: 73.5581 %\n"
          ]
        },
        {
          "output_type": "stream",
          "name": "stderr",
          "text": [
            "449it [01:23,  5.35it/s]\n",
            "100%|██████████| 57/57 [00:07<00:00,  8.13it/s]\n"
          ]
        },
        {
          "output_type": "stream",
          "name": "stdout",
          "text": [
            "Epoch   112: reducing learning rate of group 0 to 4.2235e-04.\n",
            "Epoch 112\t\tTrain Accuracy: 93.0304 %\t\tVal Accuracy: 73.4466 %\n"
          ]
        },
        {
          "output_type": "stream",
          "name": "stderr",
          "text": [
            "449it [01:24,  5.29it/s]\n",
            "100%|██████████| 57/57 [00:07<00:00,  8.11it/s]\n"
          ]
        },
        {
          "output_type": "stream",
          "name": "stdout",
          "text": [
            "Epoch 113\t\tTrain Accuracy: 93.0283 %\t\tVal Accuracy: 73.3073 %\n"
          ]
        },
        {
          "output_type": "stream",
          "name": "stderr",
          "text": [
            "449it [01:24,  5.32it/s]\n",
            "100%|██████████| 57/57 [00:07<00:00,  8.05it/s]\n"
          ]
        },
        {
          "output_type": "stream",
          "name": "stdout",
          "text": [
            "Epoch 114\t\tTrain Accuracy: 93.1234 %\t\tVal Accuracy: 73.5860 %\n"
          ]
        },
        {
          "output_type": "stream",
          "name": "stderr",
          "text": [
            "449it [01:24,  5.34it/s]\n",
            "100%|██████████| 57/57 [00:06<00:00,  8.19it/s]\n"
          ]
        },
        {
          "output_type": "stream",
          "name": "stdout",
          "text": [
            "Epoch 115\t\tTrain Accuracy: 93.0593 %\t\tVal Accuracy: 74.1432 %\n"
          ]
        },
        {
          "output_type": "stream",
          "name": "stderr",
          "text": [
            "449it [01:24,  5.30it/s]\n",
            "100%|██████████| 57/57 [00:07<00:00,  8.14it/s]\n"
          ]
        },
        {
          "output_type": "stream",
          "name": "stdout",
          "text": [
            "Epoch 116\t\tTrain Accuracy: 93.0276 %\t\tVal Accuracy: 73.6695 %\n"
          ]
        },
        {
          "output_type": "stream",
          "name": "stderr",
          "text": [
            "449it [01:25,  5.28it/s]\n",
            "100%|██████████| 57/57 [00:07<00:00,  8.06it/s]\n"
          ]
        },
        {
          "output_type": "stream",
          "name": "stdout",
          "text": [
            "Epoch 117\t\tTrain Accuracy: 93.0886 %\t\tVal Accuracy: 73.5302 %\n"
          ]
        },
        {
          "output_type": "stream",
          "name": "stderr",
          "text": [
            "449it [01:24,  5.28it/s]\n",
            "100%|██████████| 57/57 [00:06<00:00,  8.16it/s]\n"
          ]
        },
        {
          "output_type": "stream",
          "name": "stdout",
          "text": [
            "Epoch   118: reducing learning rate of group 0 to 3.1676e-04.\n",
            "Epoch 118\t\tTrain Accuracy: 93.1955 %\t\tVal Accuracy: 73.5581 %\n"
          ]
        },
        {
          "output_type": "stream",
          "name": "stderr",
          "text": [
            "449it [01:25,  5.28it/s]\n",
            "100%|██████████| 57/57 [00:07<00:00,  8.13it/s]\n"
          ]
        },
        {
          "output_type": "stream",
          "name": "stdout",
          "text": [
            "Epoch 119\t\tTrain Accuracy: 93.2753 %\t\tVal Accuracy: 73.5024 %\n"
          ]
        },
        {
          "output_type": "stream",
          "name": "stderr",
          "text": [
            "449it [01:24,  5.32it/s]\n",
            "100%|██████████| 57/57 [00:07<00:00,  8.11it/s]\n"
          ]
        },
        {
          "output_type": "stream",
          "name": "stdout",
          "text": [
            "Epoch 120\t\tTrain Accuracy: 93.1795 %\t\tVal Accuracy: 73.9760 %\n"
          ]
        },
        {
          "output_type": "stream",
          "name": "stderr",
          "text": [
            "449it [01:25,  5.24it/s]\n",
            "100%|██████████| 57/57 [00:07<00:00,  8.03it/s]\n"
          ]
        },
        {
          "output_type": "stream",
          "name": "stdout",
          "text": [
            "Epoch 121\t\tTrain Accuracy: 93.1746 %\t\tVal Accuracy: 73.9482 %\n"
          ]
        },
        {
          "output_type": "stream",
          "name": "stderr",
          "text": [
            "449it [01:25,  5.27it/s]\n",
            "100%|██████████| 57/57 [00:07<00:00,  8.13it/s]\n"
          ]
        },
        {
          "output_type": "stream",
          "name": "stdout",
          "text": [
            "Epoch 122\t\tTrain Accuracy: 93.4484 %\t\tVal Accuracy: 73.5581 %\n"
          ]
        },
        {
          "output_type": "stream",
          "name": "stderr",
          "text": [
            "449it [01:25,  5.27it/s]\n",
            "100%|██████████| 57/57 [00:06<00:00,  8.20it/s]\n"
          ]
        },
        {
          "output_type": "stream",
          "name": "stdout",
          "text": [
            "Epoch 123\t\tTrain Accuracy: 93.3240 %\t\tVal Accuracy: 73.4466 %\n"
          ]
        },
        {
          "output_type": "stream",
          "name": "stderr",
          "text": [
            "449it [01:26,  5.18it/s]\n",
            "100%|██████████| 57/57 [00:07<00:00,  8.11it/s]\n"
          ]
        },
        {
          "output_type": "stream",
          "name": "stdout",
          "text": [
            "Epoch   124: reducing learning rate of group 0 to 2.3757e-04.\n",
            "Epoch 124\t\tTrain Accuracy: 93.3018 %\t\tVal Accuracy: 73.8089 %\n"
          ]
        },
        {
          "output_type": "stream",
          "name": "stderr",
          "text": [
            "449it [01:24,  5.28it/s]\n",
            "100%|██████████| 57/57 [00:06<00:00,  8.21it/s]\n"
          ]
        },
        {
          "output_type": "stream",
          "name": "stdout",
          "text": [
            "Epoch 125\t\tTrain Accuracy: 93.4247 %\t\tVal Accuracy: 73.6417 %\n"
          ]
        },
        {
          "output_type": "stream",
          "name": "stderr",
          "text": [
            "449it [01:23,  5.35it/s]\n",
            "100%|██████████| 57/57 [00:06<00:00,  8.19it/s]\n"
          ]
        },
        {
          "output_type": "stream",
          "name": "stdout",
          "text": [
            "Epoch 126\t\tTrain Accuracy: 93.3519 %\t\tVal Accuracy: 73.2795 %\n"
          ]
        },
        {
          "output_type": "stream",
          "name": "stderr",
          "text": [
            "449it [01:24,  5.31it/s]\n",
            "100%|██████████| 57/57 [00:07<00:00,  8.12it/s]\n"
          ]
        },
        {
          "output_type": "stream",
          "name": "stdout",
          "text": [
            "Epoch 127\t\tTrain Accuracy: 93.3683 %\t\tVal Accuracy: 74.0318 %\n"
          ]
        },
        {
          "output_type": "stream",
          "name": "stderr",
          "text": [
            "449it [01:23,  5.35it/s]\n",
            "100%|██████████| 57/57 [00:06<00:00,  8.18it/s]\n"
          ]
        },
        {
          "output_type": "stream",
          "name": "stdout",
          "text": [
            "Epoch 128\t\tTrain Accuracy: 93.3822 %\t\tVal Accuracy: 73.7531 %\n"
          ]
        },
        {
          "output_type": "stream",
          "name": "stderr",
          "text": [
            "449it [01:24,  5.33it/s]\n",
            "100%|██████████| 57/57 [00:07<00:00,  8.10it/s]\n"
          ]
        },
        {
          "output_type": "stream",
          "name": "stdout",
          "text": [
            "Epoch 129\t\tTrain Accuracy: 93.3202 %\t\tVal Accuracy: 73.7810 %\n"
          ]
        },
        {
          "output_type": "stream",
          "name": "stderr",
          "text": [
            "449it [01:24,  5.30it/s]\n",
            "100%|██████████| 57/57 [00:07<00:00,  8.12it/s]\n"
          ]
        },
        {
          "output_type": "stream",
          "name": "stdout",
          "text": [
            "Epoch   130: reducing learning rate of group 0 to 1.7818e-04.\n",
            "Epoch 130\t\tTrain Accuracy: 93.4212 %\t\tVal Accuracy: 73.6974 %\n"
          ]
        },
        {
          "output_type": "stream",
          "name": "stderr",
          "text": [
            "449it [01:24,  5.29it/s]\n",
            "100%|██████████| 57/57 [00:06<00:00,  8.20it/s]\n"
          ]
        },
        {
          "output_type": "stream",
          "name": "stdout",
          "text": [
            "Epoch 131\t\tTrain Accuracy: 93.4926 %\t\tVal Accuracy: 73.4745 %\n"
          ]
        },
        {
          "output_type": "stream",
          "name": "stderr",
          "text": [
            "449it [01:24,  5.31it/s]\n",
            "100%|██████████| 57/57 [00:07<00:00,  8.05it/s]\n"
          ]
        },
        {
          "output_type": "stream",
          "name": "stdout",
          "text": [
            "Epoch 132\t\tTrain Accuracy: 93.5125 %\t\tVal Accuracy: 73.6695 %\n"
          ]
        },
        {
          "output_type": "stream",
          "name": "stderr",
          "text": [
            "449it [01:24,  5.33it/s]\n",
            "100%|██████████| 57/57 [00:06<00:00,  8.16it/s]\n"
          ]
        },
        {
          "output_type": "stream",
          "name": "stdout",
          "text": [
            "Epoch 133\t\tTrain Accuracy: 93.4797 %\t\tVal Accuracy: 73.6417 %\n"
          ]
        },
        {
          "output_type": "stream",
          "name": "stderr",
          "text": [
            "449it [01:24,  5.34it/s]\n",
            "100%|██████████| 57/57 [00:06<00:00,  8.21it/s]\n"
          ]
        },
        {
          "output_type": "stream",
          "name": "stdout",
          "text": [
            "Epoch 134\t\tTrain Accuracy: 93.5090 %\t\tVal Accuracy: 73.5024 %\n"
          ]
        },
        {
          "output_type": "stream",
          "name": "stderr",
          "text": [
            "449it [01:24,  5.32it/s]\n",
            "100%|██████████| 57/57 [00:06<00:00,  8.16it/s]\n"
          ]
        },
        {
          "output_type": "stream",
          "name": "stdout",
          "text": [
            "Epoch 135\t\tTrain Accuracy: 93.4933 %\t\tVal Accuracy: 73.2795 %\n"
          ]
        },
        {
          "output_type": "stream",
          "name": "stderr",
          "text": [
            "449it [01:24,  5.33it/s]\n",
            "100%|██████████| 57/57 [00:06<00:00,  8.23it/s]\n"
          ]
        },
        {
          "output_type": "stream",
          "name": "stdout",
          "text": [
            "Epoch   136: reducing learning rate of group 0 to 1.3363e-04.\n",
            "Epoch 136\t\tTrain Accuracy: 93.5017 %\t\tVal Accuracy: 73.7531 %\n"
          ]
        },
        {
          "output_type": "stream",
          "name": "stderr",
          "text": [
            "449it [01:24,  5.32it/s]\n",
            "100%|██████████| 57/57 [00:06<00:00,  8.17it/s]\n"
          ]
        },
        {
          "output_type": "stream",
          "name": "stdout",
          "text": [
            "Epoch 137\t\tTrain Accuracy: 93.4620 %\t\tVal Accuracy: 73.6974 %\n"
          ]
        },
        {
          "output_type": "stream",
          "name": "stderr",
          "text": [
            "449it [01:24,  5.30it/s]\n",
            "100%|██████████| 57/57 [00:07<00:00,  8.08it/s]\n"
          ]
        },
        {
          "output_type": "stream",
          "name": "stdout",
          "text": [
            "Epoch 138\t\tTrain Accuracy: 93.4874 %\t\tVal Accuracy: 73.6695 %\n"
          ]
        },
        {
          "output_type": "stream",
          "name": "stderr",
          "text": [
            "449it [01:24,  5.31it/s]\n",
            "100%|██████████| 57/57 [00:07<00:00,  8.11it/s]\n"
          ]
        },
        {
          "output_type": "stream",
          "name": "stdout",
          "text": [
            "Epoch 139\t\tTrain Accuracy: 93.5943 %\t\tVal Accuracy: 73.3631 %\n"
          ]
        },
        {
          "output_type": "stream",
          "name": "stderr",
          "text": [
            "449it [01:24,  5.30it/s]\n",
            "100%|██████████| 57/57 [00:06<00:00,  8.16it/s]\n"
          ]
        },
        {
          "output_type": "stream",
          "name": "stdout",
          "text": [
            "Epoch 140\t\tTrain Accuracy: 93.5369 %\t\tVal Accuracy: 73.5581 %\n"
          ]
        },
        {
          "output_type": "stream",
          "name": "stderr",
          "text": [
            "449it [01:24,  5.31it/s]\n",
            "100%|██████████| 57/57 [00:06<00:00,  8.16it/s]\n"
          ]
        },
        {
          "output_type": "stream",
          "name": "stdout",
          "text": [
            "Epoch 141\t\tTrain Accuracy: 93.5902 %\t\tVal Accuracy: 73.6417 %\n"
          ]
        },
        {
          "output_type": "stream",
          "name": "stderr",
          "text": [
            "449it [01:23,  5.35it/s]\n",
            "100%|██████████| 57/57 [00:07<00:00,  8.08it/s]\n"
          ]
        },
        {
          "output_type": "stream",
          "name": "stdout",
          "text": [
            "Epoch   142: reducing learning rate of group 0 to 1.0023e-04.\n",
            "Epoch 142\t\tTrain Accuracy: 93.5895 %\t\tVal Accuracy: 73.7253 %\n"
          ]
        },
        {
          "output_type": "stream",
          "name": "stderr",
          "text": [
            "449it [01:24,  5.33it/s]\n",
            "100%|██████████| 57/57 [00:06<00:00,  8.19it/s]\n"
          ]
        },
        {
          "output_type": "stream",
          "name": "stdout",
          "text": [
            "Epoch 143\t\tTrain Accuracy: 93.5410 %\t\tVal Accuracy: 73.4188 %\n"
          ]
        },
        {
          "output_type": "stream",
          "name": "stderr",
          "text": [
            "449it [01:24,  5.33it/s]\n",
            "100%|██████████| 57/57 [00:06<00:00,  8.16it/s]\n"
          ]
        },
        {
          "output_type": "stream",
          "name": "stdout",
          "text": [
            "Epoch 144\t\tTrain Accuracy: 93.5619 %\t\tVal Accuracy: 73.6974 %\n"
          ]
        },
        {
          "output_type": "stream",
          "name": "stderr",
          "text": [
            "449it [01:24,  5.33it/s]\n",
            "100%|██████████| 57/57 [00:07<00:00,  8.12it/s]\n"
          ]
        },
        {
          "output_type": "stream",
          "name": "stdout",
          "text": [
            "Epoch 145\t\tTrain Accuracy: 93.5188 %\t\tVal Accuracy: 73.3631 %\n"
          ]
        },
        {
          "output_type": "stream",
          "name": "stderr",
          "text": [
            "449it [01:24,  5.33it/s]\n",
            "100%|██████████| 57/57 [00:06<00:00,  8.17it/s]\n"
          ]
        },
        {
          "output_type": "stream",
          "name": "stdout",
          "text": [
            "Epoch 146\t\tTrain Accuracy: 93.6201 %\t\tVal Accuracy: 73.6138 %\n"
          ]
        },
        {
          "output_type": "stream",
          "name": "stderr",
          "text": [
            "449it [01:24,  5.34it/s]\n",
            "100%|██████████| 57/57 [00:07<00:00,  8.10it/s]\n"
          ]
        },
        {
          "output_type": "stream",
          "name": "stdout",
          "text": [
            "Epoch 147\t\tTrain Accuracy: 93.7351 %\t\tVal Accuracy: 73.6695 %\n"
          ]
        },
        {
          "output_type": "stream",
          "name": "stderr",
          "text": [
            "449it [01:24,  5.29it/s]\n",
            "100%|██████████| 57/57 [00:06<00:00,  8.18it/s]\n"
          ]
        },
        {
          "output_type": "stream",
          "name": "stdout",
          "text": [
            "Epoch   148: reducing learning rate of group 0 to 7.5169e-05.\n",
            "Epoch 148\t\tTrain Accuracy: 93.4874 %\t\tVal Accuracy: 73.5581 %\n"
          ]
        },
        {
          "output_type": "stream",
          "name": "stderr",
          "text": [
            "449it [01:24,  5.29it/s]\n",
            "100%|██████████| 57/57 [00:06<00:00,  8.18it/s]\n"
          ]
        },
        {
          "output_type": "stream",
          "name": "stdout",
          "text": [
            "Epoch 149\t\tTrain Accuracy: 93.6919 %\t\tVal Accuracy: 73.3631 %\n"
          ]
        },
        {
          "output_type": "stream",
          "name": "stderr",
          "text": [
            "449it [01:24,  5.32it/s]\n",
            "100%|██████████| 57/57 [00:06<00:00,  8.19it/s]\n"
          ]
        },
        {
          "output_type": "stream",
          "name": "stdout",
          "text": [
            "Epoch 150\t\tTrain Accuracy: 93.6873 %\t\tVal Accuracy: 73.5302 %\n"
          ]
        },
        {
          "output_type": "stream",
          "name": "stderr",
          "text": [
            "449it [01:24,  5.31it/s]\n",
            "100%|██████████| 57/57 [00:07<00:00,  8.08it/s]\n"
          ]
        },
        {
          "output_type": "stream",
          "name": "stdout",
          "text": [
            "Epoch 151\t\tTrain Accuracy: 93.6619 %\t\tVal Accuracy: 73.6138 %\n"
          ]
        },
        {
          "output_type": "stream",
          "name": "stderr",
          "text": [
            "449it [01:26,  5.22it/s]\n",
            "100%|██████████| 57/57 [00:07<00:00,  8.08it/s]\n"
          ]
        },
        {
          "output_type": "stream",
          "name": "stdout",
          "text": [
            "Epoch 152\t\tTrain Accuracy: 93.7504 %\t\tVal Accuracy: 73.6138 %\n"
          ]
        },
        {
          "output_type": "stream",
          "name": "stderr",
          "text": [
            "449it [01:23,  5.36it/s]\n",
            "100%|██████████| 57/57 [00:06<00:00,  8.22it/s]\n"
          ]
        },
        {
          "output_type": "stream",
          "name": "stdout",
          "text": [
            "Epoch 153\t\tTrain Accuracy: 93.6173 %\t\tVal Accuracy: 73.6974 %\n"
          ]
        },
        {
          "output_type": "stream",
          "name": "stderr",
          "text": [
            "449it [01:24,  5.31it/s]\n",
            "100%|██████████| 57/57 [00:06<00:00,  8.14it/s]\n"
          ]
        },
        {
          "output_type": "stream",
          "name": "stdout",
          "text": [
            "Epoch   154: reducing learning rate of group 0 to 5.6377e-05.\n",
            "Epoch 154\t\tTrain Accuracy: 93.6637 %\t\tVal Accuracy: 73.5302 %\n"
          ]
        },
        {
          "output_type": "stream",
          "name": "stderr",
          "text": [
            "449it [01:24,  5.30it/s]\n",
            "100%|██████████| 57/57 [00:06<00:00,  8.21it/s]\n"
          ]
        },
        {
          "output_type": "stream",
          "name": "stdout",
          "text": [
            "Epoch 155\t\tTrain Accuracy: 93.7020 %\t\tVal Accuracy: 73.4745 %\n"
          ]
        },
        {
          "output_type": "stream",
          "name": "stderr",
          "text": [
            "449it [01:24,  5.31it/s]\n",
            "100%|██████████| 57/57 [00:06<00:00,  8.15it/s]\n"
          ]
        },
        {
          "output_type": "stream",
          "name": "stdout",
          "text": [
            "Epoch 156\t\tTrain Accuracy: 93.7772 %\t\tVal Accuracy: 73.6695 %\n"
          ]
        },
        {
          "output_type": "stream",
          "name": "stderr",
          "text": [
            "449it [01:24,  5.30it/s]\n",
            "100%|██████████| 57/57 [00:07<00:00,  8.13it/s]\n"
          ]
        },
        {
          "output_type": "stream",
          "name": "stdout",
          "text": [
            "Epoch 157\t\tTrain Accuracy: 93.6403 %\t\tVal Accuracy: 73.4188 %\n"
          ]
        },
        {
          "output_type": "stream",
          "name": "stderr",
          "text": [
            "449it [01:23,  5.35it/s]\n",
            "100%|██████████| 57/57 [00:07<00:00,  8.14it/s]\n"
          ]
        },
        {
          "output_type": "stream",
          "name": "stdout",
          "text": [
            "Epoch 158\t\tTrain Accuracy: 93.6173 %\t\tVal Accuracy: 73.6695 %\n"
          ]
        },
        {
          "output_type": "stream",
          "name": "stderr",
          "text": [
            "360it [01:07,  5.30it/s]\n"
          ]
        },
        {
          "output_type": "error",
          "ename": "KeyboardInterrupt",
          "evalue": "ignored",
          "traceback": [
            "\u001b[0;31m---------------------------------------------------------------------------\u001b[0m",
            "\u001b[0;31mKeyboardInterrupt\u001b[0m                         Traceback (most recent call last)",
            "\u001b[0;32m<ipython-input-50-0834698e32b4>\u001b[0m in \u001b[0;36m<module>\u001b[0;34m()\u001b[0m\n\u001b[1;32m      6\u001b[0m \u001b[0;32mfor\u001b[0m \u001b[0mepoch\u001b[0m \u001b[0;32min\u001b[0m \u001b[0mrange\u001b[0m\u001b[0;34m(\u001b[0m\u001b[0mhps\u001b[0m\u001b[0;34m[\u001b[0m\u001b[0;34m'start_epoch'\u001b[0m\u001b[0;34m]\u001b[0m\u001b[0;34m,\u001b[0m \u001b[0mhps\u001b[0m\u001b[0;34m[\u001b[0m\u001b[0;34m'n_epochs'\u001b[0m\u001b[0;34m]\u001b[0m\u001b[0;34m)\u001b[0m\u001b[0;34m:\u001b[0m\u001b[0;34m\u001b[0m\u001b[0;34m\u001b[0m\u001b[0m\n\u001b[1;32m      7\u001b[0m \u001b[0;34m\u001b[0m\u001b[0m\n\u001b[0;32m----> 8\u001b[0;31m   \u001b[0macc_tr\u001b[0m\u001b[0;34m,\u001b[0m \u001b[0mloss_tr\u001b[0m \u001b[0;34m=\u001b[0m \u001b[0mtrain\u001b[0m\u001b[0;34m(\u001b[0m\u001b[0mnet\u001b[0m\u001b[0;34m,\u001b[0m \u001b[0mtrainloader\u001b[0m\u001b[0;34m,\u001b[0m \u001b[0mcriterion\u001b[0m\u001b[0;34m,\u001b[0m \u001b[0moptimizer\u001b[0m\u001b[0;34m,\u001b[0m \u001b[0mscaler\u001b[0m\u001b[0;34m)\u001b[0m\u001b[0;34m\u001b[0m\u001b[0;34m\u001b[0m\u001b[0m\n\u001b[0m\u001b[1;32m      9\u001b[0m   \u001b[0mrun\u001b[0m\u001b[0;34m[\u001b[0m\u001b[0;34m'metrics/train_loss'\u001b[0m\u001b[0;34m]\u001b[0m\u001b[0;34m.\u001b[0m\u001b[0mlog\u001b[0m\u001b[0;34m(\u001b[0m\u001b[0mloss_tr\u001b[0m\u001b[0;34m)\u001b[0m\u001b[0;34m\u001b[0m\u001b[0;34m\u001b[0m\u001b[0m\n\u001b[1;32m     10\u001b[0m   \u001b[0mrun\u001b[0m\u001b[0;34m[\u001b[0m\u001b[0;34m'metrics/train_acc'\u001b[0m\u001b[0;34m]\u001b[0m\u001b[0;34m.\u001b[0m\u001b[0mlog\u001b[0m\u001b[0;34m(\u001b[0m\u001b[0macc_tr\u001b[0m\u001b[0;34m)\u001b[0m\u001b[0;34m\u001b[0m\u001b[0;34m\u001b[0m\u001b[0m\n",
            "\u001b[0;32m<ipython-input-35-f893501deb1c>\u001b[0m in \u001b[0;36mtrain\u001b[0;34m(net, dataloader, criterion, optimizer, scaler, Ncrop)\u001b[0m\n\u001b[1;32m     33\u001b[0m             \u001b[0;31m# print('scaler scaled!!')\u001b[0m\u001b[0;34m\u001b[0m\u001b[0;34m\u001b[0m\u001b[0;34m\u001b[0m\u001b[0m\n\u001b[1;32m     34\u001b[0m \u001b[0;34m\u001b[0m\u001b[0m\n\u001b[0;32m---> 35\u001b[0;31m             \u001b[0mscaler\u001b[0m\u001b[0;34m.\u001b[0m\u001b[0mstep\u001b[0m\u001b[0;34m(\u001b[0m\u001b[0moptimizer\u001b[0m\u001b[0;34m)\u001b[0m\u001b[0;34m\u001b[0m\u001b[0;34m\u001b[0m\u001b[0m\n\u001b[0m\u001b[1;32m     36\u001b[0m             \u001b[0;31m# print('scaler step!!')\u001b[0m\u001b[0;34m\u001b[0m\u001b[0;34m\u001b[0m\u001b[0;34m\u001b[0m\u001b[0m\n\u001b[1;32m     37\u001b[0m             \u001b[0mscaler\u001b[0m\u001b[0;34m.\u001b[0m\u001b[0mupdate\u001b[0m\u001b[0;34m(\u001b[0m\u001b[0;34m)\u001b[0m\u001b[0;34m\u001b[0m\u001b[0;34m\u001b[0m\u001b[0m\n",
            "\u001b[0;32m/usr/local/lib/python3.7/dist-packages/torch/cuda/amp/grad_scaler.py\u001b[0m in \u001b[0;36mstep\u001b[0;34m(self, optimizer, *args, **kwargs)\u001b[0m\n\u001b[1;32m    336\u001b[0m         \u001b[0;32massert\u001b[0m \u001b[0mlen\u001b[0m\u001b[0;34m(\u001b[0m\u001b[0moptimizer_state\u001b[0m\u001b[0;34m[\u001b[0m\u001b[0;34m\"found_inf_per_device\"\u001b[0m\u001b[0;34m]\u001b[0m\u001b[0;34m)\u001b[0m \u001b[0;34m>\u001b[0m \u001b[0;36m0\u001b[0m\u001b[0;34m,\u001b[0m \u001b[0;34m\"No inf checks were recorded for this optimizer.\"\u001b[0m\u001b[0;34m\u001b[0m\u001b[0;34m\u001b[0m\u001b[0m\n\u001b[1;32m    337\u001b[0m \u001b[0;34m\u001b[0m\u001b[0m\n\u001b[0;32m--> 338\u001b[0;31m         \u001b[0mretval\u001b[0m \u001b[0;34m=\u001b[0m \u001b[0mself\u001b[0m\u001b[0;34m.\u001b[0m\u001b[0m_maybe_opt_step\u001b[0m\u001b[0;34m(\u001b[0m\u001b[0moptimizer\u001b[0m\u001b[0;34m,\u001b[0m \u001b[0moptimizer_state\u001b[0m\u001b[0;34m,\u001b[0m \u001b[0;34m*\u001b[0m\u001b[0margs\u001b[0m\u001b[0;34m,\u001b[0m \u001b[0;34m**\u001b[0m\u001b[0mkwargs\u001b[0m\u001b[0;34m)\u001b[0m\u001b[0;34m\u001b[0m\u001b[0;34m\u001b[0m\u001b[0m\n\u001b[0m\u001b[1;32m    339\u001b[0m \u001b[0;34m\u001b[0m\u001b[0m\n\u001b[1;32m    340\u001b[0m         \u001b[0moptimizer_state\u001b[0m\u001b[0;34m[\u001b[0m\u001b[0;34m\"stage\"\u001b[0m\u001b[0;34m]\u001b[0m \u001b[0;34m=\u001b[0m \u001b[0mOptState\u001b[0m\u001b[0;34m.\u001b[0m\u001b[0mSTEPPED\u001b[0m\u001b[0;34m\u001b[0m\u001b[0;34m\u001b[0m\u001b[0m\n",
            "\u001b[0;32m/usr/local/lib/python3.7/dist-packages/torch/cuda/amp/grad_scaler.py\u001b[0m in \u001b[0;36m_maybe_opt_step\u001b[0;34m(self, optimizer, optimizer_state, *args, **kwargs)\u001b[0m\n\u001b[1;32m    282\u001b[0m     \u001b[0;32mdef\u001b[0m \u001b[0m_maybe_opt_step\u001b[0m\u001b[0;34m(\u001b[0m\u001b[0mself\u001b[0m\u001b[0;34m,\u001b[0m \u001b[0moptimizer\u001b[0m\u001b[0;34m,\u001b[0m \u001b[0moptimizer_state\u001b[0m\u001b[0;34m,\u001b[0m \u001b[0;34m*\u001b[0m\u001b[0margs\u001b[0m\u001b[0;34m,\u001b[0m \u001b[0;34m**\u001b[0m\u001b[0mkwargs\u001b[0m\u001b[0;34m)\u001b[0m\u001b[0;34m:\u001b[0m\u001b[0;34m\u001b[0m\u001b[0;34m\u001b[0m\u001b[0m\n\u001b[1;32m    283\u001b[0m         \u001b[0mretval\u001b[0m \u001b[0;34m=\u001b[0m \u001b[0;32mNone\u001b[0m\u001b[0;34m\u001b[0m\u001b[0;34m\u001b[0m\u001b[0m\n\u001b[0;32m--> 284\u001b[0;31m         \u001b[0;32mif\u001b[0m \u001b[0;32mnot\u001b[0m \u001b[0msum\u001b[0m\u001b[0;34m(\u001b[0m\u001b[0mv\u001b[0m\u001b[0;34m.\u001b[0m\u001b[0mitem\u001b[0m\u001b[0;34m(\u001b[0m\u001b[0;34m)\u001b[0m \u001b[0;32mfor\u001b[0m \u001b[0mv\u001b[0m \u001b[0;32min\u001b[0m \u001b[0moptimizer_state\u001b[0m\u001b[0;34m[\u001b[0m\u001b[0;34m\"found_inf_per_device\"\u001b[0m\u001b[0;34m]\u001b[0m\u001b[0;34m.\u001b[0m\u001b[0mvalues\u001b[0m\u001b[0;34m(\u001b[0m\u001b[0;34m)\u001b[0m\u001b[0;34m)\u001b[0m\u001b[0;34m:\u001b[0m\u001b[0;34m\u001b[0m\u001b[0;34m\u001b[0m\u001b[0m\n\u001b[0m\u001b[1;32m    285\u001b[0m             \u001b[0mretval\u001b[0m \u001b[0;34m=\u001b[0m \u001b[0moptimizer\u001b[0m\u001b[0;34m.\u001b[0m\u001b[0mstep\u001b[0m\u001b[0;34m(\u001b[0m\u001b[0;34m*\u001b[0m\u001b[0margs\u001b[0m\u001b[0;34m,\u001b[0m \u001b[0;34m**\u001b[0m\u001b[0mkwargs\u001b[0m\u001b[0;34m)\u001b[0m\u001b[0;34m\u001b[0m\u001b[0;34m\u001b[0m\u001b[0m\n\u001b[1;32m    286\u001b[0m         \u001b[0;32mreturn\u001b[0m \u001b[0mretval\u001b[0m\u001b[0;34m\u001b[0m\u001b[0;34m\u001b[0m\u001b[0m\n",
            "\u001b[0;32m/usr/local/lib/python3.7/dist-packages/torch/cuda/amp/grad_scaler.py\u001b[0m in \u001b[0;36m<genexpr>\u001b[0;34m(.0)\u001b[0m\n\u001b[1;32m    282\u001b[0m     \u001b[0;32mdef\u001b[0m \u001b[0m_maybe_opt_step\u001b[0m\u001b[0;34m(\u001b[0m\u001b[0mself\u001b[0m\u001b[0;34m,\u001b[0m \u001b[0moptimizer\u001b[0m\u001b[0;34m,\u001b[0m \u001b[0moptimizer_state\u001b[0m\u001b[0;34m,\u001b[0m \u001b[0;34m*\u001b[0m\u001b[0margs\u001b[0m\u001b[0;34m,\u001b[0m \u001b[0;34m**\u001b[0m\u001b[0mkwargs\u001b[0m\u001b[0;34m)\u001b[0m\u001b[0;34m:\u001b[0m\u001b[0;34m\u001b[0m\u001b[0;34m\u001b[0m\u001b[0m\n\u001b[1;32m    283\u001b[0m         \u001b[0mretval\u001b[0m \u001b[0;34m=\u001b[0m \u001b[0;32mNone\u001b[0m\u001b[0;34m\u001b[0m\u001b[0;34m\u001b[0m\u001b[0m\n\u001b[0;32m--> 284\u001b[0;31m         \u001b[0;32mif\u001b[0m \u001b[0;32mnot\u001b[0m \u001b[0msum\u001b[0m\u001b[0;34m(\u001b[0m\u001b[0mv\u001b[0m\u001b[0;34m.\u001b[0m\u001b[0mitem\u001b[0m\u001b[0;34m(\u001b[0m\u001b[0;34m)\u001b[0m \u001b[0;32mfor\u001b[0m \u001b[0mv\u001b[0m \u001b[0;32min\u001b[0m \u001b[0moptimizer_state\u001b[0m\u001b[0;34m[\u001b[0m\u001b[0;34m\"found_inf_per_device\"\u001b[0m\u001b[0;34m]\u001b[0m\u001b[0;34m.\u001b[0m\u001b[0mvalues\u001b[0m\u001b[0;34m(\u001b[0m\u001b[0;34m)\u001b[0m\u001b[0;34m)\u001b[0m\u001b[0;34m:\u001b[0m\u001b[0;34m\u001b[0m\u001b[0;34m\u001b[0m\u001b[0m\n\u001b[0m\u001b[1;32m    285\u001b[0m             \u001b[0mretval\u001b[0m \u001b[0;34m=\u001b[0m \u001b[0moptimizer\u001b[0m\u001b[0;34m.\u001b[0m\u001b[0mstep\u001b[0m\u001b[0;34m(\u001b[0m\u001b[0;34m*\u001b[0m\u001b[0margs\u001b[0m\u001b[0;34m,\u001b[0m \u001b[0;34m**\u001b[0m\u001b[0mkwargs\u001b[0m\u001b[0;34m)\u001b[0m\u001b[0;34m\u001b[0m\u001b[0;34m\u001b[0m\u001b[0m\n\u001b[1;32m    286\u001b[0m         \u001b[0;32mreturn\u001b[0m \u001b[0mretval\u001b[0m\u001b[0;34m\u001b[0m\u001b[0;34m\u001b[0m\u001b[0m\n",
            "\u001b[0;31mKeyboardInterrupt\u001b[0m: "
          ]
        }
      ]
    },
    {
      "cell_type": "code",
      "source": [
        "!pip install neptune-client"
      ],
      "metadata": {
        "id": "B30F5BUhKQAN"
      },
      "execution_count": null,
      "outputs": []
    },
    {
      "cell_type": "code",
      "source": [
        "import neptune.new as neptune\n",
        "\n",
        "run = neptune.init(project = 'bavesh.balaji/Experiment-Tracking-Pytorch-fer2013',\n",
        "                   api_token = 'eyJhcGlfYWRkcmVzcyI6Imh0dHBzOi8vYXBwLm5lcHR1bmUuYWkiLCJhcGlfdXJsIjoiaHR0cHM6Ly9hcHAubmVwdHVuZS5haSIsImFwaV9rZXkiOiI5MTFkOTlhMi1iMTllLTRiZjgtYTI3Mi00NmNhMGY4NjIwMDQifQ==')"
      ],
      "metadata": {
        "id": "sKkfYC5jA_7T",
        "outputId": "e82f8ce5-0e91-4f4d-8b83-aaab43fd6e2f",
        "colab": {
          "base_uri": "https://localhost:8080/"
        }
      },
      "execution_count": 40,
      "outputs": [
        {
          "output_type": "stream",
          "name": "stdout",
          "text": [
            "https://app.neptune.ai/bavesh.balaji/Experiment-Tracking-PyTorch-fer2013/e/EX-2\n",
            "Remember to stop your run once you’ve finished logging your metadata (https://docs.neptune.ai/api-reference/run#.stop). It will be stopped automatically only when the notebook kernel/interactive console is terminated.\n"
          ]
        }
      ]
    },
    {
      "cell_type": "code",
      "source": [
        "run['parameters'] = hps"
      ],
      "metadata": {
        "id": "e1Pl3LsgCCgb"
      },
      "execution_count": 41,
      "outputs": []
    },
    {
      "cell_type": "code",
      "source": [
        "run.stop()"
      ],
      "metadata": {
        "id": "OD2rqwOBCFkl",
        "outputId": "aa1ce457-f0e5-4cfc-efc0-0f440cd7851c",
        "colab": {
          "base_uri": "https://localhost:8080/"
        }
      },
      "execution_count": 51,
      "outputs": [
        {
          "output_type": "stream",
          "name": "stdout",
          "text": [
            "Shutting down background jobs, please wait a moment...\n",
            "Done!\n"
          ]
        },
        {
          "output_type": "stream",
          "name": "stderr",
          "text": [
            "Waiting for the remaining 1 operations to synchronize with Neptune. Do not kill this process.\n"
          ]
        },
        {
          "output_type": "stream",
          "name": "stdout",
          "text": [
            "All 1 operations synced, thanks for waiting!\n"
          ]
        }
      ]
    },
    {
      "cell_type": "code",
      "source": [
        ""
      ],
      "metadata": {
        "id": "6IisYSjN9eZE"
      },
      "execution_count": null,
      "outputs": []
    }
  ]
}